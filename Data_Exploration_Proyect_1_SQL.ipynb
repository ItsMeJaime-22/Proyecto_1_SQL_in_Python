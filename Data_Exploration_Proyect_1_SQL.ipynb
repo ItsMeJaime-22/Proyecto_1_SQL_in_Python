{
 "cells": [
  {
   "cell_type": "markdown",
   "metadata": {},
   "source": [
    "### **Proyect SQL Data Exploration**"
   ]
  },
  {
   "cell_type": "markdown",
   "metadata": {},
   "source": [
    "#### **Como importar archivos Excel a SQL Server Management Studio**"
   ]
  },
  {
   "cell_type": "code",
   "execution_count": 1,
   "metadata": {},
   "outputs": [
    {
     "data": {
      "text/plain": [
       "'Url = https://www.youtube.com/watch?v=Wxhwo0TzTWM'"
      ]
     },
     "execution_count": 1,
     "metadata": {},
     "output_type": "execute_result"
    }
   ],
   "source": [
    "'Url = https://www.youtube.com/watch?v=Wxhwo0TzTWM'"
   ]
  },
  {
   "cell_type": "markdown",
   "metadata": {},
   "source": [
    "#### **Importando librerias Python**"
   ]
  },
  {
   "cell_type": "code",
   "execution_count": 3,
   "metadata": {},
   "outputs": [],
   "source": [
    "from PIL import Image\n",
    "import pandas as pd\n",
    "import sqlalchemy\n",
    "import urllib\n",
    "import matplotlib.pyplot as plt\n",
    "import numpy as np\n",
    "%matplotlib inline\n",
    "# collections as c\n",
    "# Con collections, importamos la libreria y todas sus herramientas.\n",
    "#from collections import defaultdict\n",
    "# Al colocar el from, solo haremos la importación de una herramienta especifica que se encuentra dentro de la libreria \"collections\"\n",
    "from collections import defaultdict as ddict\n",
    "# Ahora le hemos agregado un alias, para no repetir los nombres.\n",
    "import datetime\n",
    "import os\n",
    "import pyodbc as podbc# Conección SQL Server.import pandas as pd"
   ]
  },
  {
   "cell_type": "code",
   "execution_count": 4,
   "metadata": {},
   "outputs": [
    {
     "data": {
      "text/html": [
       "<div>\n",
       "<style scoped>\n",
       "    .dataframe tbody tr th:only-of-type {\n",
       "        vertical-align: middle;\n",
       "    }\n",
       "\n",
       "    .dataframe tbody tr th {\n",
       "        vertical-align: top;\n",
       "    }\n",
       "\n",
       "    .dataframe thead th {\n",
       "        text-align: right;\n",
       "    }\n",
       "</style>\n",
       "<table border=\"1\" class=\"dataframe\">\n",
       "  <thead>\n",
       "    <tr style=\"text-align: right;\">\n",
       "      <th></th>\n",
       "      <th>iso_code</th>\n",
       "      <th>continent</th>\n",
       "      <th>location</th>\n",
       "      <th>date</th>\n",
       "      <th>total_cases</th>\n",
       "      <th>new_cases</th>\n",
       "      <th>new_cases_smoothed</th>\n",
       "      <th>total_deaths</th>\n",
       "      <th>new_deaths</th>\n",
       "      <th>new_deaths_smoothed</th>\n",
       "      <th>...</th>\n",
       "      <th>male_smokers</th>\n",
       "      <th>handwashing_facilities</th>\n",
       "      <th>hospital_beds_per_thousand</th>\n",
       "      <th>life_expectancy</th>\n",
       "      <th>human_development_index</th>\n",
       "      <th>population</th>\n",
       "      <th>excess_mortality_cumulative_absolute</th>\n",
       "      <th>excess_mortality_cumulative</th>\n",
       "      <th>excess_mortality</th>\n",
       "      <th>excess_mortality_cumulative_per_million</th>\n",
       "    </tr>\n",
       "  </thead>\n",
       "  <tbody>\n",
       "    <tr>\n",
       "      <th>159292</th>\n",
       "      <td>JPN</td>\n",
       "      <td>Asia</td>\n",
       "      <td>Japan</td>\n",
       "      <td>2020-08-21</td>\n",
       "      <td>59721.0</td>\n",
       "      <td>1220.0</td>\n",
       "      <td>1072.000</td>\n",
       "      <td>1155.0</td>\n",
       "      <td>11.0</td>\n",
       "      <td>11.714</td>\n",
       "      <td>...</td>\n",
       "      <td>33.7</td>\n",
       "      <td>NaN</td>\n",
       "      <td>13.05</td>\n",
       "      <td>84.63</td>\n",
       "      <td>0.919</td>\n",
       "      <td>123951696.0</td>\n",
       "      <td>NaN</td>\n",
       "      <td>NaN</td>\n",
       "      <td>NaN</td>\n",
       "      <td>NaN</td>\n",
       "    </tr>\n",
       "    <tr>\n",
       "      <th>45874</th>\n",
       "      <td>VGB</td>\n",
       "      <td>North America</td>\n",
       "      <td>British Virgin Islands</td>\n",
       "      <td>2022-09-16</td>\n",
       "      <td>7305.0</td>\n",
       "      <td>0.0</td>\n",
       "      <td>0.000</td>\n",
       "      <td>64.0</td>\n",
       "      <td>0.0</td>\n",
       "      <td>0.000</td>\n",
       "      <td>...</td>\n",
       "      <td>NaN</td>\n",
       "      <td>NaN</td>\n",
       "      <td>NaN</td>\n",
       "      <td>79.07</td>\n",
       "      <td>NaN</td>\n",
       "      <td>31332.0</td>\n",
       "      <td>NaN</td>\n",
       "      <td>NaN</td>\n",
       "      <td>NaN</td>\n",
       "      <td>NaN</td>\n",
       "    </tr>\n",
       "    <tr>\n",
       "      <th>167512</th>\n",
       "      <td>KIR</td>\n",
       "      <td>Oceania</td>\n",
       "      <td>Kiribati</td>\n",
       "      <td>2023-05-02</td>\n",
       "      <td>5025.0</td>\n",
       "      <td>0.0</td>\n",
       "      <td>0.000</td>\n",
       "      <td>24.0</td>\n",
       "      <td>0.0</td>\n",
       "      <td>0.000</td>\n",
       "      <td>...</td>\n",
       "      <td>58.9</td>\n",
       "      <td>NaN</td>\n",
       "      <td>1.90</td>\n",
       "      <td>68.37</td>\n",
       "      <td>0.630</td>\n",
       "      <td>131237.0</td>\n",
       "      <td>NaN</td>\n",
       "      <td>NaN</td>\n",
       "      <td>NaN</td>\n",
       "      <td>NaN</td>\n",
       "    </tr>\n",
       "    <tr>\n",
       "      <th>187505</th>\n",
       "      <td>LUX</td>\n",
       "      <td>Europe</td>\n",
       "      <td>Luxembourg</td>\n",
       "      <td>2022-07-31</td>\n",
       "      <td>320140.0</td>\n",
       "      <td>2769.0</td>\n",
       "      <td>395.571</td>\n",
       "      <td>896.0</td>\n",
       "      <td>3.0</td>\n",
       "      <td>0.429</td>\n",
       "      <td>...</td>\n",
       "      <td>26.0</td>\n",
       "      <td>NaN</td>\n",
       "      <td>4.51</td>\n",
       "      <td>82.25</td>\n",
       "      <td>0.916</td>\n",
       "      <td>647601.0</td>\n",
       "      <td>-75.59999</td>\n",
       "      <td>-0.64</td>\n",
       "      <td>11.24</td>\n",
       "      <td>-116.73853</td>\n",
       "    </tr>\n",
       "    <tr>\n",
       "      <th>207698</th>\n",
       "      <td>MDA</td>\n",
       "      <td>Europe</td>\n",
       "      <td>Moldova</td>\n",
       "      <td>2020-03-07</td>\n",
       "      <td>NaN</td>\n",
       "      <td>0.0</td>\n",
       "      <td>0.000</td>\n",
       "      <td>NaN</td>\n",
       "      <td>0.0</td>\n",
       "      <td>0.000</td>\n",
       "      <td>...</td>\n",
       "      <td>44.6</td>\n",
       "      <td>86.979</td>\n",
       "      <td>5.80</td>\n",
       "      <td>71.90</td>\n",
       "      <td>0.750</td>\n",
       "      <td>3272993.0</td>\n",
       "      <td>NaN</td>\n",
       "      <td>NaN</td>\n",
       "      <td>NaN</td>\n",
       "      <td>NaN</td>\n",
       "    </tr>\n",
       "  </tbody>\n",
       "</table>\n",
       "<p>5 rows × 67 columns</p>\n",
       "</div>"
      ],
      "text/plain": [
       "       iso_code      continent                location        date  \\\n",
       "159292      JPN           Asia                   Japan  2020-08-21   \n",
       "45874       VGB  North America  British Virgin Islands  2022-09-16   \n",
       "167512      KIR        Oceania                Kiribati  2023-05-02   \n",
       "187505      LUX         Europe              Luxembourg  2022-07-31   \n",
       "207698      MDA         Europe                 Moldova  2020-03-07   \n",
       "\n",
       "        total_cases  new_cases  new_cases_smoothed  total_deaths  new_deaths  \\\n",
       "159292      59721.0     1220.0            1072.000        1155.0        11.0   \n",
       "45874        7305.0        0.0               0.000          64.0         0.0   \n",
       "167512       5025.0        0.0               0.000          24.0         0.0   \n",
       "187505     320140.0     2769.0             395.571         896.0         3.0   \n",
       "207698          NaN        0.0               0.000           NaN         0.0   \n",
       "\n",
       "        new_deaths_smoothed  ...  male_smokers  handwashing_facilities  \\\n",
       "159292               11.714  ...          33.7                     NaN   \n",
       "45874                 0.000  ...           NaN                     NaN   \n",
       "167512                0.000  ...          58.9                     NaN   \n",
       "187505                0.429  ...          26.0                     NaN   \n",
       "207698                0.000  ...          44.6                  86.979   \n",
       "\n",
       "        hospital_beds_per_thousand  life_expectancy  human_development_index  \\\n",
       "159292                       13.05            84.63                    0.919   \n",
       "45874                          NaN            79.07                      NaN   \n",
       "167512                        1.90            68.37                    0.630   \n",
       "187505                        4.51            82.25                    0.916   \n",
       "207698                        5.80            71.90                    0.750   \n",
       "\n",
       "         population  excess_mortality_cumulative_absolute  \\\n",
       "159292  123951696.0                                   NaN   \n",
       "45874       31332.0                                   NaN   \n",
       "167512     131237.0                                   NaN   \n",
       "187505     647601.0                             -75.59999   \n",
       "207698    3272993.0                                   NaN   \n",
       "\n",
       "        excess_mortality_cumulative  excess_mortality  \\\n",
       "159292                          NaN               NaN   \n",
       "45874                           NaN               NaN   \n",
       "167512                          NaN               NaN   \n",
       "187505                        -0.64             11.24   \n",
       "207698                          NaN               NaN   \n",
       "\n",
       "        excess_mortality_cumulative_per_million  \n",
       "159292                                      NaN  \n",
       "45874                                       NaN  \n",
       "167512                                      NaN  \n",
       "187505                               -116.73853  \n",
       "207698                                      NaN  \n",
       "\n",
       "[5 rows x 67 columns]"
      ]
     },
     "execution_count": 4,
     "metadata": {},
     "output_type": "execute_result"
    }
   ],
   "source": [
    "df = pd.read_csv('owid-covid-data.csv')\n",
    "\n",
    "df.sample(5)"
   ]
  },
  {
   "cell_type": "code",
   "execution_count": 5,
   "metadata": {},
   "outputs": [
    {
     "data": {
      "text/plain": [
       "(365553, 67)"
      ]
     },
     "execution_count": 5,
     "metadata": {},
     "output_type": "execute_result"
    }
   ],
   "source": [
    "df.shape"
   ]
  },
  {
   "cell_type": "code",
   "execution_count": 6,
   "metadata": {},
   "outputs": [
    {
     "data": {
      "text/plain": [
       "Index(['iso_code', 'continent', 'location', 'date', 'total_cases', 'new_cases',\n",
       "       'new_cases_smoothed', 'total_deaths', 'new_deaths',\n",
       "       'new_deaths_smoothed', 'total_cases_per_million',\n",
       "       'new_cases_per_million', 'new_cases_smoothed_per_million',\n",
       "       'total_deaths_per_million', 'new_deaths_per_million',\n",
       "       'new_deaths_smoothed_per_million', 'reproduction_rate', 'icu_patients',\n",
       "       'icu_patients_per_million', 'hosp_patients',\n",
       "       'hosp_patients_per_million', 'weekly_icu_admissions',\n",
       "       'weekly_icu_admissions_per_million', 'weekly_hosp_admissions',\n",
       "       'weekly_hosp_admissions_per_million', 'total_tests', 'new_tests',\n",
       "       'total_tests_per_thousand', 'new_tests_per_thousand',\n",
       "       'new_tests_smoothed', 'new_tests_smoothed_per_thousand',\n",
       "       'positive_rate', 'tests_per_case', 'tests_units', 'total_vaccinations',\n",
       "       'people_vaccinated', 'people_fully_vaccinated', 'total_boosters',\n",
       "       'new_vaccinations', 'new_vaccinations_smoothed',\n",
       "       'total_vaccinations_per_hundred', 'people_vaccinated_per_hundred',\n",
       "       'people_fully_vaccinated_per_hundred', 'total_boosters_per_hundred',\n",
       "       'new_vaccinations_smoothed_per_million',\n",
       "       'new_people_vaccinated_smoothed',\n",
       "       'new_people_vaccinated_smoothed_per_hundred', 'stringency_index',\n",
       "       'population_density', 'median_age', 'aged_65_older', 'aged_70_older',\n",
       "       'gdp_per_capita', 'extreme_poverty', 'cardiovasc_death_rate',\n",
       "       'diabetes_prevalence', 'female_smokers', 'male_smokers',\n",
       "       'handwashing_facilities', 'hospital_beds_per_thousand',\n",
       "       'life_expectancy', 'human_development_index', 'population',\n",
       "       'excess_mortality_cumulative_absolute', 'excess_mortality_cumulative',\n",
       "       'excess_mortality', 'excess_mortality_cumulative_per_million'],\n",
       "      dtype='object')"
      ]
     },
     "execution_count": 6,
     "metadata": {},
     "output_type": "execute_result"
    }
   ],
   "source": [
    "df.columns"
   ]
  },
  {
   "cell_type": "code",
   "execution_count": 7,
   "metadata": {},
   "outputs": [],
   "source": [
    "Covid_Deaths = df[['iso_code', 'continent', 'location', 'date', 'population', 'total_cases', 'new_cases',\n",
    "       'new_cases_smoothed', 'total_deaths', 'new_deaths',\n",
    "       'new_deaths_smoothed', 'total_cases_per_million',\n",
    "       'new_cases_per_million', 'new_cases_smoothed_per_million',\n",
    "       'total_deaths_per_million', 'new_deaths_per_million',\n",
    "       'new_deaths_smoothed_per_million', 'reproduction_rate', 'icu_patients',\n",
    "       'icu_patients_per_million', 'hosp_patients',\n",
    "       'hosp_patients_per_million', 'weekly_icu_admissions',\n",
    "       'weekly_icu_admissions_per_million', 'weekly_hosp_admissions',\n",
    "       'weekly_hosp_admissions_per_million',\n",
    "       # 'new_tests', 'total_tests'\n",
    "       #'total_tests_per_thousand', 'new_tests_per_thousand',\n",
    "       #'new_tests_smoothed', 'new_tests_smoothed_per_thousand',\n",
    "       #'positive_rate', 'tests_per_case', 'tests_units', 'total_vaccinations',\n",
    "       #'people_vaccinated', 'people_fully_vaccinated', 'total_boosters',\n",
    "       #'new_vaccinations', 'new_vaccinations_smoothed',\n",
    "       #'total_vaccinations_per_hundred', 'people_vaccinated_per_hundred',\n",
    "       #'people_fully_vaccinated_per_hundred', 'total_boosters_per_hundred',\n",
    "       #'new_vaccinations_smoothed_per_million',\n",
    "       #'new_people_vaccinated_smoothed',\n",
    "       #'new_people_vaccinated_smoothed_per_hundred', 'stringency_index',\n",
    "       #'population_density', 'median_age', 'aged_65_older', 'aged_70_older',\n",
    "       #'gdp_per_capita', 'extreme_poverty', 'cardiovasc_death_rate',\n",
    "       #'diabetes_prevalence', 'female_smokers', 'male_smokers',\n",
    "       #'handwashing_facilities', 'hospital_beds_per_thousand',\n",
    "       #'life_expectancy', 'human_development_index',\n",
    "       #'excess_mortality_cumulative_absolute', 'excess_mortality_cumulative',\n",
    "       #'excess_mortality', 'excess_mortality_cumulative_per_million'\n",
    "       ]].copy()"
   ]
  },
  {
   "cell_type": "code",
   "execution_count": 8,
   "metadata": {},
   "outputs": [
    {
     "data": {
      "text/plain": [
       "(365553, 26)"
      ]
     },
     "execution_count": 8,
     "metadata": {},
     "output_type": "execute_result"
    }
   ],
   "source": [
    "Covid_Deaths.shape"
   ]
  },
  {
   "cell_type": "code",
   "execution_count": 9,
   "metadata": {},
   "outputs": [
    {
     "data": {
      "text/html": [
       "<div>\n",
       "<style scoped>\n",
       "    .dataframe tbody tr th:only-of-type {\n",
       "        vertical-align: middle;\n",
       "    }\n",
       "\n",
       "    .dataframe tbody tr th {\n",
       "        vertical-align: top;\n",
       "    }\n",
       "\n",
       "    .dataframe thead th {\n",
       "        text-align: right;\n",
       "    }\n",
       "</style>\n",
       "<table border=\"1\" class=\"dataframe\">\n",
       "  <thead>\n",
       "    <tr style=\"text-align: right;\">\n",
       "      <th></th>\n",
       "      <th>iso_code</th>\n",
       "      <th>continent</th>\n",
       "      <th>location</th>\n",
       "      <th>date</th>\n",
       "      <th>population</th>\n",
       "      <th>total_cases</th>\n",
       "      <th>new_cases</th>\n",
       "      <th>new_cases_smoothed</th>\n",
       "      <th>total_deaths</th>\n",
       "      <th>new_deaths</th>\n",
       "      <th>...</th>\n",
       "      <th>new_deaths_smoothed_per_million</th>\n",
       "      <th>reproduction_rate</th>\n",
       "      <th>icu_patients</th>\n",
       "      <th>icu_patients_per_million</th>\n",
       "      <th>hosp_patients</th>\n",
       "      <th>hosp_patients_per_million</th>\n",
       "      <th>weekly_icu_admissions</th>\n",
       "      <th>weekly_icu_admissions_per_million</th>\n",
       "      <th>weekly_hosp_admissions</th>\n",
       "      <th>weekly_hosp_admissions_per_million</th>\n",
       "    </tr>\n",
       "  </thead>\n",
       "  <tbody>\n",
       "    <tr>\n",
       "      <th>218360</th>\n",
       "      <td>MMR</td>\n",
       "      <td>Asia</td>\n",
       "      <td>Myanmar</td>\n",
       "      <td>2021-08-22</td>\n",
       "      <td>54179312.0</td>\n",
       "      <td>373685.0</td>\n",
       "      <td>2173.0</td>\n",
       "      <td>2772.286</td>\n",
       "      <td>14374.0</td>\n",
       "      <td>138.0</td>\n",
       "      <td>...</td>\n",
       "      <td>2.929</td>\n",
       "      <td>0.88</td>\n",
       "      <td>NaN</td>\n",
       "      <td>NaN</td>\n",
       "      <td>NaN</td>\n",
       "      <td>NaN</td>\n",
       "      <td>NaN</td>\n",
       "      <td>NaN</td>\n",
       "      <td>NaN</td>\n",
       "      <td>NaN</td>\n",
       "    </tr>\n",
       "    <tr>\n",
       "      <th>357039</th>\n",
       "      <td>VNM</td>\n",
       "      <td>Asia</td>\n",
       "      <td>Vietnam</td>\n",
       "      <td>2023-10-14</td>\n",
       "      <td>98186856.0</td>\n",
       "      <td>11623976.0</td>\n",
       "      <td>65.0</td>\n",
       "      <td>20.286</td>\n",
       "      <td>43206.0</td>\n",
       "      <td>0.0</td>\n",
       "      <td>...</td>\n",
       "      <td>0.000</td>\n",
       "      <td>NaN</td>\n",
       "      <td>NaN</td>\n",
       "      <td>NaN</td>\n",
       "      <td>NaN</td>\n",
       "      <td>NaN</td>\n",
       "      <td>NaN</td>\n",
       "      <td>NaN</td>\n",
       "      <td>NaN</td>\n",
       "      <td>NaN</td>\n",
       "    </tr>\n",
       "    <tr>\n",
       "      <th>165725</th>\n",
       "      <td>KEN</td>\n",
       "      <td>Africa</td>\n",
       "      <td>Kenya</td>\n",
       "      <td>2022-05-27</td>\n",
       "      <td>54027484.0</td>\n",
       "      <td>324469.0</td>\n",
       "      <td>63.0</td>\n",
       "      <td>48.571</td>\n",
       "      <td>5651.0</td>\n",
       "      <td>0.0</td>\n",
       "      <td>...</td>\n",
       "      <td>0.005</td>\n",
       "      <td>1.71</td>\n",
       "      <td>NaN</td>\n",
       "      <td>NaN</td>\n",
       "      <td>NaN</td>\n",
       "      <td>NaN</td>\n",
       "      <td>NaN</td>\n",
       "      <td>NaN</td>\n",
       "      <td>NaN</td>\n",
       "      <td>NaN</td>\n",
       "    </tr>\n",
       "    <tr>\n",
       "      <th>138688</th>\n",
       "      <td>HTI</td>\n",
       "      <td>North America</td>\n",
       "      <td>Haiti</td>\n",
       "      <td>2023-05-01</td>\n",
       "      <td>11585003.0</td>\n",
       "      <td>34228.0</td>\n",
       "      <td>0.0</td>\n",
       "      <td>0.286</td>\n",
       "      <td>860.0</td>\n",
       "      <td>0.0</td>\n",
       "      <td>...</td>\n",
       "      <td>0.000</td>\n",
       "      <td>NaN</td>\n",
       "      <td>NaN</td>\n",
       "      <td>NaN</td>\n",
       "      <td>NaN</td>\n",
       "      <td>NaN</td>\n",
       "      <td>NaN</td>\n",
       "      <td>NaN</td>\n",
       "      <td>NaN</td>\n",
       "      <td>NaN</td>\n",
       "    </tr>\n",
       "    <tr>\n",
       "      <th>299348</th>\n",
       "      <td>SLB</td>\n",
       "      <td>Oceania</td>\n",
       "      <td>Solomon Islands</td>\n",
       "      <td>2020-03-07</td>\n",
       "      <td>724272.0</td>\n",
       "      <td>NaN</td>\n",
       "      <td>0.0</td>\n",
       "      <td>0.000</td>\n",
       "      <td>NaN</td>\n",
       "      <td>0.0</td>\n",
       "      <td>...</td>\n",
       "      <td>0.000</td>\n",
       "      <td>NaN</td>\n",
       "      <td>NaN</td>\n",
       "      <td>NaN</td>\n",
       "      <td>NaN</td>\n",
       "      <td>NaN</td>\n",
       "      <td>NaN</td>\n",
       "      <td>NaN</td>\n",
       "      <td>NaN</td>\n",
       "      <td>NaN</td>\n",
       "    </tr>\n",
       "  </tbody>\n",
       "</table>\n",
       "<p>5 rows × 26 columns</p>\n",
       "</div>"
      ],
      "text/plain": [
       "       iso_code      continent         location        date  population  \\\n",
       "218360      MMR           Asia          Myanmar  2021-08-22  54179312.0   \n",
       "357039      VNM           Asia          Vietnam  2023-10-14  98186856.0   \n",
       "165725      KEN         Africa            Kenya  2022-05-27  54027484.0   \n",
       "138688      HTI  North America            Haiti  2023-05-01  11585003.0   \n",
       "299348      SLB        Oceania  Solomon Islands  2020-03-07    724272.0   \n",
       "\n",
       "        total_cases  new_cases  new_cases_smoothed  total_deaths  new_deaths  \\\n",
       "218360     373685.0     2173.0            2772.286       14374.0       138.0   \n",
       "357039   11623976.0       65.0              20.286       43206.0         0.0   \n",
       "165725     324469.0       63.0              48.571        5651.0         0.0   \n",
       "138688      34228.0        0.0               0.286         860.0         0.0   \n",
       "299348          NaN        0.0               0.000           NaN         0.0   \n",
       "\n",
       "        ...  new_deaths_smoothed_per_million  reproduction_rate  icu_patients  \\\n",
       "218360  ...                            2.929               0.88           NaN   \n",
       "357039  ...                            0.000                NaN           NaN   \n",
       "165725  ...                            0.005               1.71           NaN   \n",
       "138688  ...                            0.000                NaN           NaN   \n",
       "299348  ...                            0.000                NaN           NaN   \n",
       "\n",
       "        icu_patients_per_million  hosp_patients  hosp_patients_per_million  \\\n",
       "218360                       NaN            NaN                        NaN   \n",
       "357039                       NaN            NaN                        NaN   \n",
       "165725                       NaN            NaN                        NaN   \n",
       "138688                       NaN            NaN                        NaN   \n",
       "299348                       NaN            NaN                        NaN   \n",
       "\n",
       "        weekly_icu_admissions  weekly_icu_admissions_per_million  \\\n",
       "218360                    NaN                                NaN   \n",
       "357039                    NaN                                NaN   \n",
       "165725                    NaN                                NaN   \n",
       "138688                    NaN                                NaN   \n",
       "299348                    NaN                                NaN   \n",
       "\n",
       "        weekly_hosp_admissions  weekly_hosp_admissions_per_million  \n",
       "218360                     NaN                                 NaN  \n",
       "357039                     NaN                                 NaN  \n",
       "165725                     NaN                                 NaN  \n",
       "138688                     NaN                                 NaN  \n",
       "299348                     NaN                                 NaN  \n",
       "\n",
       "[5 rows x 26 columns]"
      ]
     },
     "execution_count": 9,
     "metadata": {},
     "output_type": "execute_result"
    }
   ],
   "source": [
    "Covid_Deaths.sample(5)"
   ]
  },
  {
   "cell_type": "code",
   "execution_count": 10,
   "metadata": {},
   "outputs": [
    {
     "name": "stdout",
     "output_type": "stream",
     "text": [
      "Archivo guardado exitosamente en: C:\\Users\\JAIME\\Desktop\\Jaime_Data_Analyst\\Bootcamps\\SQL\\Curso_Alex_The_Analyst\\Import_Data_SQL\\Covid_Deaths_parte1.xlsx\n",
      "Archivo guardado exitosamente en: C:\\Users\\JAIME\\Desktop\\Jaime_Data_Analyst\\Bootcamps\\SQL\\Curso_Alex_The_Analyst\\Import_Data_SQL\\Covid_Deaths_parte2.xlsx\n",
      "Archivo guardado exitosamente en: C:\\Users\\JAIME\\Desktop\\Jaime_Data_Analyst\\Bootcamps\\SQL\\Curso_Alex_The_Analyst\\Import_Data_SQL\\Covid_Deaths_parte3.xlsx\n",
      "Archivo guardado exitosamente en: C:\\Users\\JAIME\\Desktop\\Jaime_Data_Analyst\\Bootcamps\\SQL\\Curso_Alex_The_Analyst\\Import_Data_SQL\\Covid_Deaths_parte4.xlsx\n"
     ]
    }
   ],
   "source": [
    "# Dividir el DataFrame en bloques\n",
    "chunks = [Covid_Deaths[i:i + 100000] for i in range(0, Covid_Deaths.shape[0], 100000)]\n",
    "\n",
    "# Guardar cada bloque en un archivo CSV\n",
    "for i, chunk in enumerate(chunks):\n",
    "    ruta_destino = fr'C:\\Users\\JAIME\\Desktop\\Jaime_Data_Analyst\\Bootcamps\\SQL\\Curso_Alex_The_Analyst\\Import_Data_SQL\\Covid_Deaths_parte{i+1}.xlsx'\n",
    "    \n",
    "    try:\n",
    "        chunk.to_csv(ruta_destino, index=False)\n",
    "        print(f'Archivo guardado exitosamente en: {ruta_destino}')\n",
    "\n",
    "    except Exception as e:\n",
    "        print(f'Error al guardar el archivo: {e}')\n",
    "        \n",
    "#! Nos permite exportar archivos por separado a nuestra carpeta destino."
   ]
  },
  {
   "cell_type": "code",
   "execution_count": 11,
   "metadata": {},
   "outputs": [],
   "source": [
    "\n",
    "#! Ruta de destino del archivo Excel\n",
    "#ruta_destino = r'C:\\Users\\JAIME\\Desktop\\Jaime_Data_Analyst\\Bootcamps\\SQL\\Curso_Alex_The_Analyst\\Covid_Deaths.csv'\n",
    "\n",
    "#try:\n",
    "    #! Intenta exportar el DataFrame a Excel\n",
    "#    Covid_Deaths.to_excel(ruta_destino, index=False)\n",
    "#    print(f'Archivo guardado exitosamente en: {ruta_destino}')\n",
    "\n",
    "#except Exception as e:\n",
    "    #! Captura cualquier excepción y muestra un mensaje de error\n",
    "#    print(f'Error al guardar el archivo: {e}')\n",
    "\n",
    "#! Nos permite exportar nuestra base de datos a una carpeta destino."
   ]
  },
  {
   "cell_type": "markdown",
   "metadata": {},
   "source": [
    "#### **Exportación #2**"
   ]
  },
  {
   "cell_type": "code",
   "execution_count": 12,
   "metadata": {},
   "outputs": [
    {
     "data": {
      "text/plain": [
       "(365553, 67)"
      ]
     },
     "execution_count": 12,
     "metadata": {},
     "output_type": "execute_result"
    }
   ],
   "source": [
    "df.shape"
   ]
  },
  {
   "cell_type": "code",
   "execution_count": 13,
   "metadata": {},
   "outputs": [
    {
     "data": {
      "text/plain": [
       "Index(['iso_code', 'continent', 'location', 'date', 'total_cases', 'new_cases',\n",
       "       'new_cases_smoothed', 'total_deaths', 'new_deaths',\n",
       "       'new_deaths_smoothed', 'total_cases_per_million',\n",
       "       'new_cases_per_million', 'new_cases_smoothed_per_million',\n",
       "       'total_deaths_per_million', 'new_deaths_per_million',\n",
       "       'new_deaths_smoothed_per_million', 'reproduction_rate', 'icu_patients',\n",
       "       'icu_patients_per_million', 'hosp_patients',\n",
       "       'hosp_patients_per_million', 'weekly_icu_admissions',\n",
       "       'weekly_icu_admissions_per_million', 'weekly_hosp_admissions',\n",
       "       'weekly_hosp_admissions_per_million', 'total_tests', 'new_tests',\n",
       "       'total_tests_per_thousand', 'new_tests_per_thousand',\n",
       "       'new_tests_smoothed', 'new_tests_smoothed_per_thousand',\n",
       "       'positive_rate', 'tests_per_case', 'tests_units', 'total_vaccinations',\n",
       "       'people_vaccinated', 'people_fully_vaccinated', 'total_boosters',\n",
       "       'new_vaccinations', 'new_vaccinations_smoothed',\n",
       "       'total_vaccinations_per_hundred', 'people_vaccinated_per_hundred',\n",
       "       'people_fully_vaccinated_per_hundred', 'total_boosters_per_hundred',\n",
       "       'new_vaccinations_smoothed_per_million',\n",
       "       'new_people_vaccinated_smoothed',\n",
       "       'new_people_vaccinated_smoothed_per_hundred', 'stringency_index',\n",
       "       'population_density', 'median_age', 'aged_65_older', 'aged_70_older',\n",
       "       'gdp_per_capita', 'extreme_poverty', 'cardiovasc_death_rate',\n",
       "       'diabetes_prevalence', 'female_smokers', 'male_smokers',\n",
       "       'handwashing_facilities', 'hospital_beds_per_thousand',\n",
       "       'life_expectancy', 'human_development_index', 'population',\n",
       "       'excess_mortality_cumulative_absolute', 'excess_mortality_cumulative',\n",
       "       'excess_mortality', 'excess_mortality_cumulative_per_million'],\n",
       "      dtype='object')"
      ]
     },
     "execution_count": 13,
     "metadata": {},
     "output_type": "execute_result"
    }
   ],
   "source": [
    "df.columns"
   ]
  },
  {
   "cell_type": "code",
   "execution_count": 14,
   "metadata": {},
   "outputs": [],
   "source": [
    "Covid_Vaccinations = df[['iso_code', 'continent', 'location', 'date',\n",
    "        #'population', 'total_cases', 'new_cases',\n",
    "       #'new_cases_smoothed', 'total_deaths', 'new_deaths',\n",
    "       #'new_deaths_smoothed', 'total_cases_per_million',\n",
    "       #'new_cases_per_million', 'new_cases_smoothed_per_million',\n",
    "       #'total_deaths_per_million', 'new_deaths_per_million',\n",
    "       #'new_deaths_smoothed_per_million', 'reproduction_rate', 'icu_patients',\n",
    "       #'icu_patients_per_million', 'hosp_patients',\n",
    "       #'hosp_patients_per_million', 'weekly_icu_admissions',\n",
    "       #'weekly_icu_admissions_per_million', 'weekly_hosp_admissions',\n",
    "       #'weekly_hosp_admissions_per_million',\n",
    "        'new_tests', 'total_tests',\n",
    "       'total_tests_per_thousand', 'new_tests_per_thousand',\n",
    "       'new_tests_smoothed', 'new_tests_smoothed_per_thousand',\n",
    "       'positive_rate', 'tests_per_case', 'tests_units', 'total_vaccinations',\n",
    "       'people_vaccinated', 'people_fully_vaccinated', 'total_boosters',\n",
    "       'new_vaccinations', 'new_vaccinations_smoothed',\n",
    "       'total_vaccinations_per_hundred', 'people_vaccinated_per_hundred',\n",
    "       'people_fully_vaccinated_per_hundred', 'total_boosters_per_hundred',\n",
    "       'new_vaccinations_smoothed_per_million',\n",
    "       'new_people_vaccinated_smoothed',\n",
    "       'new_people_vaccinated_smoothed_per_hundred', 'stringency_index',\n",
    "       'population_density', 'median_age', 'aged_65_older', 'aged_70_older',\n",
    "       'gdp_per_capita', 'extreme_poverty', 'cardiovasc_death_rate',\n",
    "       'diabetes_prevalence', 'female_smokers', 'male_smokers',\n",
    "       'handwashing_facilities', 'hospital_beds_per_thousand',\n",
    "       'life_expectancy', 'human_development_index',\n",
    "       'excess_mortality_cumulative_absolute', 'excess_mortality_cumulative',\n",
    "       'excess_mortality', 'excess_mortality_cumulative_per_million']].copy()"
   ]
  },
  {
   "cell_type": "code",
   "execution_count": 15,
   "metadata": {},
   "outputs": [
    {
     "data": {
      "text/html": [
       "<div>\n",
       "<style scoped>\n",
       "    .dataframe tbody tr th:only-of-type {\n",
       "        vertical-align: middle;\n",
       "    }\n",
       "\n",
       "    .dataframe tbody tr th {\n",
       "        vertical-align: top;\n",
       "    }\n",
       "\n",
       "    .dataframe thead th {\n",
       "        text-align: right;\n",
       "    }\n",
       "</style>\n",
       "<table border=\"1\" class=\"dataframe\">\n",
       "  <thead>\n",
       "    <tr style=\"text-align: right;\">\n",
       "      <th></th>\n",
       "      <th>iso_code</th>\n",
       "      <th>continent</th>\n",
       "      <th>location</th>\n",
       "      <th>date</th>\n",
       "      <th>new_tests</th>\n",
       "      <th>total_tests</th>\n",
       "      <th>total_tests_per_thousand</th>\n",
       "      <th>new_tests_per_thousand</th>\n",
       "      <th>new_tests_smoothed</th>\n",
       "      <th>new_tests_smoothed_per_thousand</th>\n",
       "      <th>...</th>\n",
       "      <th>female_smokers</th>\n",
       "      <th>male_smokers</th>\n",
       "      <th>handwashing_facilities</th>\n",
       "      <th>hospital_beds_per_thousand</th>\n",
       "      <th>life_expectancy</th>\n",
       "      <th>human_development_index</th>\n",
       "      <th>excess_mortality_cumulative_absolute</th>\n",
       "      <th>excess_mortality_cumulative</th>\n",
       "      <th>excess_mortality</th>\n",
       "      <th>excess_mortality_cumulative_per_million</th>\n",
       "    </tr>\n",
       "  </thead>\n",
       "  <tbody>\n",
       "    <tr>\n",
       "      <th>139382</th>\n",
       "      <td>OWID_HIC</td>\n",
       "      <td>NaN</td>\n",
       "      <td>High income</td>\n",
       "      <td>2021-04-08</td>\n",
       "      <td>NaN</td>\n",
       "      <td>NaN</td>\n",
       "      <td>NaN</td>\n",
       "      <td>NaN</td>\n",
       "      <td>NaN</td>\n",
       "      <td>NaN</td>\n",
       "      <td>...</td>\n",
       "      <td>NaN</td>\n",
       "      <td>NaN</td>\n",
       "      <td>NaN</td>\n",
       "      <td>NaN</td>\n",
       "      <td>NaN</td>\n",
       "      <td>NaN</td>\n",
       "      <td>NaN</td>\n",
       "      <td>NaN</td>\n",
       "      <td>NaN</td>\n",
       "      <td>NaN</td>\n",
       "    </tr>\n",
       "    <tr>\n",
       "      <th>328230</th>\n",
       "      <td>TON</td>\n",
       "      <td>Oceania</td>\n",
       "      <td>Tonga</td>\n",
       "      <td>2020-03-22</td>\n",
       "      <td>NaN</td>\n",
       "      <td>NaN</td>\n",
       "      <td>NaN</td>\n",
       "      <td>NaN</td>\n",
       "      <td>NaN</td>\n",
       "      <td>NaN</td>\n",
       "      <td>...</td>\n",
       "      <td>11.8</td>\n",
       "      <td>44.4</td>\n",
       "      <td>NaN</td>\n",
       "      <td>2.6</td>\n",
       "      <td>70.91</td>\n",
       "      <td>0.725</td>\n",
       "      <td>NaN</td>\n",
       "      <td>NaN</td>\n",
       "      <td>NaN</td>\n",
       "      <td>NaN</td>\n",
       "    </tr>\n",
       "    <tr>\n",
       "      <th>203826</th>\n",
       "      <td>MYT</td>\n",
       "      <td>Africa</td>\n",
       "      <td>Mayotte</td>\n",
       "      <td>2021-06-21</td>\n",
       "      <td>NaN</td>\n",
       "      <td>NaN</td>\n",
       "      <td>NaN</td>\n",
       "      <td>NaN</td>\n",
       "      <td>NaN</td>\n",
       "      <td>NaN</td>\n",
       "      <td>...</td>\n",
       "      <td>NaN</td>\n",
       "      <td>NaN</td>\n",
       "      <td>NaN</td>\n",
       "      <td>NaN</td>\n",
       "      <td>79.46</td>\n",
       "      <td>NaN</td>\n",
       "      <td>NaN</td>\n",
       "      <td>NaN</td>\n",
       "      <td>NaN</td>\n",
       "      <td>NaN</td>\n",
       "    </tr>\n",
       "    <tr>\n",
       "      <th>230239</th>\n",
       "      <td>NER</td>\n",
       "      <td>Africa</td>\n",
       "      <td>Niger</td>\n",
       "      <td>2022-06-15</td>\n",
       "      <td>NaN</td>\n",
       "      <td>NaN</td>\n",
       "      <td>NaN</td>\n",
       "      <td>NaN</td>\n",
       "      <td>NaN</td>\n",
       "      <td>NaN</td>\n",
       "      <td>...</td>\n",
       "      <td>0.1</td>\n",
       "      <td>15.4</td>\n",
       "      <td>8.978</td>\n",
       "      <td>0.3</td>\n",
       "      <td>62.42</td>\n",
       "      <td>0.394</td>\n",
       "      <td>NaN</td>\n",
       "      <td>NaN</td>\n",
       "      <td>NaN</td>\n",
       "      <td>NaN</td>\n",
       "    </tr>\n",
       "    <tr>\n",
       "      <th>131017</th>\n",
       "      <td>GTM</td>\n",
       "      <td>North America</td>\n",
       "      <td>Guatemala</td>\n",
       "      <td>2022-02-19</td>\n",
       "      <td>5347.0</td>\n",
       "      <td>3847377.0</td>\n",
       "      <td>218.496</td>\n",
       "      <td>0.304</td>\n",
       "      <td>12593.0</td>\n",
       "      <td>0.715</td>\n",
       "      <td>...</td>\n",
       "      <td>NaN</td>\n",
       "      <td>NaN</td>\n",
       "      <td>76.665</td>\n",
       "      <td>0.6</td>\n",
       "      <td>74.30</td>\n",
       "      <td>0.663</td>\n",
       "      <td>NaN</td>\n",
       "      <td>NaN</td>\n",
       "      <td>NaN</td>\n",
       "      <td>NaN</td>\n",
       "    </tr>\n",
       "  </tbody>\n",
       "</table>\n",
       "<p>5 rows × 45 columns</p>\n",
       "</div>"
      ],
      "text/plain": [
       "        iso_code      continent     location        date  new_tests  \\\n",
       "139382  OWID_HIC            NaN  High income  2021-04-08        NaN   \n",
       "328230       TON        Oceania        Tonga  2020-03-22        NaN   \n",
       "203826       MYT         Africa      Mayotte  2021-06-21        NaN   \n",
       "230239       NER         Africa        Niger  2022-06-15        NaN   \n",
       "131017       GTM  North America    Guatemala  2022-02-19     5347.0   \n",
       "\n",
       "        total_tests  total_tests_per_thousand  new_tests_per_thousand  \\\n",
       "139382          NaN                       NaN                     NaN   \n",
       "328230          NaN                       NaN                     NaN   \n",
       "203826          NaN                       NaN                     NaN   \n",
       "230239          NaN                       NaN                     NaN   \n",
       "131017    3847377.0                   218.496                   0.304   \n",
       "\n",
       "        new_tests_smoothed  new_tests_smoothed_per_thousand  ...  \\\n",
       "139382                 NaN                              NaN  ...   \n",
       "328230                 NaN                              NaN  ...   \n",
       "203826                 NaN                              NaN  ...   \n",
       "230239                 NaN                              NaN  ...   \n",
       "131017             12593.0                            0.715  ...   \n",
       "\n",
       "        female_smokers  male_smokers handwashing_facilities  \\\n",
       "139382             NaN           NaN                    NaN   \n",
       "328230            11.8          44.4                    NaN   \n",
       "203826             NaN           NaN                    NaN   \n",
       "230239             0.1          15.4                  8.978   \n",
       "131017             NaN           NaN                 76.665   \n",
       "\n",
       "        hospital_beds_per_thousand  life_expectancy  human_development_index  \\\n",
       "139382                         NaN              NaN                      NaN   \n",
       "328230                         2.6            70.91                    0.725   \n",
       "203826                         NaN            79.46                      NaN   \n",
       "230239                         0.3            62.42                    0.394   \n",
       "131017                         0.6            74.30                    0.663   \n",
       "\n",
       "        excess_mortality_cumulative_absolute  excess_mortality_cumulative  \\\n",
       "139382                                   NaN                          NaN   \n",
       "328230                                   NaN                          NaN   \n",
       "203826                                   NaN                          NaN   \n",
       "230239                                   NaN                          NaN   \n",
       "131017                                   NaN                          NaN   \n",
       "\n",
       "        excess_mortality  excess_mortality_cumulative_per_million  \n",
       "139382               NaN                                      NaN  \n",
       "328230               NaN                                      NaN  \n",
       "203826               NaN                                      NaN  \n",
       "230239               NaN                                      NaN  \n",
       "131017               NaN                                      NaN  \n",
       "\n",
       "[5 rows x 45 columns]"
      ]
     },
     "execution_count": 15,
     "metadata": {},
     "output_type": "execute_result"
    }
   ],
   "source": [
    "Covid_Vaccinations.sample(5)"
   ]
  },
  {
   "cell_type": "code",
   "execution_count": 16,
   "metadata": {},
   "outputs": [
    {
     "data": {
      "text/plain": [
       "(365553, 45)"
      ]
     },
     "execution_count": 16,
     "metadata": {},
     "output_type": "execute_result"
    }
   ],
   "source": [
    "Covid_Vaccinations.shape"
   ]
  },
  {
   "cell_type": "code",
   "execution_count": 17,
   "metadata": {},
   "outputs": [
    {
     "name": "stdout",
     "output_type": "stream",
     "text": [
      "Archivo guardado exitosamente en: C:\\Users\\JAIME\\Desktop\\Jaime_Data_Analyst\\Bootcamps\\SQL\\Curso_Alex_The_Analyst\\Import_Data_SQL\\Covid_Vaccinations_parte1.xlsx\n",
      "Archivo guardado exitosamente en: C:\\Users\\JAIME\\Desktop\\Jaime_Data_Analyst\\Bootcamps\\SQL\\Curso_Alex_The_Analyst\\Import_Data_SQL\\Covid_Vaccinations_parte2.xlsx\n",
      "Archivo guardado exitosamente en: C:\\Users\\JAIME\\Desktop\\Jaime_Data_Analyst\\Bootcamps\\SQL\\Curso_Alex_The_Analyst\\Import_Data_SQL\\Covid_Vaccinations_parte3.xlsx\n",
      "Archivo guardado exitosamente en: C:\\Users\\JAIME\\Desktop\\Jaime_Data_Analyst\\Bootcamps\\SQL\\Curso_Alex_The_Analyst\\Import_Data_SQL\\Covid_Vaccinations_parte4.xlsx\n"
     ]
    }
   ],
   "source": [
    "# Dividir el DataFrame en bloques\n",
    "chunks = [Covid_Vaccinations[i:i + 100000] for i in range(0, Covid_Vaccinations.shape[0], 100000)]\n",
    "\n",
    "# Guardar cada bloque en un archivo CSV\n",
    "for i, chunk in enumerate(chunks):\n",
    "    ruta_destino = fr'C:\\Users\\JAIME\\Desktop\\Jaime_Data_Analyst\\Bootcamps\\SQL\\Curso_Alex_The_Analyst\\Import_Data_SQL\\Covid_Vaccinations_parte{i+1}.xlsx'\n",
    "    \n",
    "    try:\n",
    "        chunk.to_csv(ruta_destino, index=False)\n",
    "        print(f'Archivo guardado exitosamente en: {ruta_destino}')\n",
    "\n",
    "    except Exception as e:\n",
    "        print(f'Error al guardar el archivo: {e}')\n",
    "        \n",
    "#! Nos permite exportar archivos por separado a nuestra carpeta destino."
   ]
  },
  {
   "cell_type": "markdown",
   "metadata": {},
   "source": [
    "#### **Conectando SQL Server Management con Python**"
   ]
  },
  {
   "cell_type": "markdown",
   "metadata": {},
   "source": [
    "//* Cuando SQL no se quiera conectar a nuestra \"instancia\" quiere decir a nuestro \"Server Name\" *//\n",
    "\n",
    "La solución es, presionar el boton de windows de nuestro teclado e ir a buscar \"Microsoft SQL Server Tools 19\",\n",
    "luego buscamos la opción \"SQL Server Configuration Manager\" y abrimos, nos aparecerá una ventana con varias opciones,\n",
    "debemos buscar entre ellas la opción \"SQL Server Configuration Manager (Local)\", entre ellas la opción \"SQL Server Services\",\n",
    "por ultimo, debemos buscar el nombre de nuestra instancia a la cual nos queremos conectar y nos muestra el error, en mi caso,\n",
    "es la instancia \"SQL Server Agent (SQLEXPRESS02)\" este se deber encontrar al inicio con un icono de color rojo, y en la columna\n",
    "estate deberia estar como \"Stopped\", todo ello es el error, ahora para solucionarlo, le debemos dar anticlick al name \n",
    "\"SQL Server Agent (SQLEXPRESS02)\" y darle click en la opción \"Start\" y con ello cerramos \"SQL Server Management Studio\"\n",
    "y lo volvemos a abrir y nos conectamos, esta seria la solución.\n",
    "\n",
    "By: Jaime Araujo Aguirre."
   ]
  },
  {
   "cell_type": "code",
   "execution_count": 23,
   "metadata": {},
   "outputs": [
    {
     "name": "stdout",
     "output_type": "stream",
     "text": [
      "Requirement already satisfied: sqlalchemy in c:\\users\\jaime\\appdata\\local\\programs\\python\\python312\\lib\\site-packages (2.0.23)\n",
      "Requirement already satisfied: pyodbc in c:\\users\\jaime\\appdata\\local\\programs\\python\\python312\\lib\\site-packages (5.0.1)\n",
      "Requirement already satisfied: pandas in c:\\users\\jaime\\appdata\\local\\programs\\python\\python312\\lib\\site-packages (2.1.3)\n",
      "Requirement already satisfied: typing-extensions>=4.2.0 in c:\\users\\jaime\\appdata\\local\\programs\\python\\python312\\lib\\site-packages (from sqlalchemy) (4.9.0)\n",
      "Requirement already satisfied: greenlet!=0.4.17 in c:\\users\\jaime\\appdata\\local\\programs\\python\\python312\\lib\\site-packages (from sqlalchemy) (3.0.3)\n",
      "Requirement already satisfied: numpy<2,>=1.26.0 in c:\\users\\jaime\\appdata\\local\\programs\\python\\python312\\lib\\site-packages (from pandas) (1.26.2)\n",
      "Requirement already satisfied: python-dateutil>=2.8.2 in c:\\users\\jaime\\appdata\\local\\programs\\python\\python312\\lib\\site-packages (from pandas) (2.8.2)\n",
      "Requirement already satisfied: pytz>=2020.1 in c:\\users\\jaime\\appdata\\local\\programs\\python\\python312\\lib\\site-packages (from pandas) (2023.3.post1)\n",
      "Requirement already satisfied: tzdata>=2022.1 in c:\\users\\jaime\\appdata\\local\\programs\\python\\python312\\lib\\site-packages (from pandas) (2023.3)\n",
      "Requirement already satisfied: six>=1.5 in c:\\users\\jaime\\appdata\\local\\programs\\python\\python312\\lib\\site-packages (from python-dateutil>=2.8.2->pandas) (1.16.0)\n",
      "Note: you may need to restart the kernel to use updated packages.\n"
     ]
    },
    {
     "name": "stderr",
     "output_type": "stream",
     "text": [
      "\n",
      "[notice] A new release of pip is available: 23.3.1 -> 23.3.2\n",
      "[notice] To update, run: python.exe -m pip install --upgrade pip\n"
     ]
    },
    {
     "name": "stdout",
     "output_type": "stream",
     "text": [
      "Requirement already satisfied: pyodbc in c:\\users\\jaime\\appdata\\local\\programs\\python\\python312\\lib\\site-packages (5.0.1)\n",
      "Note: you may need to restart the kernel to use updated packages.\n"
     ]
    },
    {
     "name": "stderr",
     "output_type": "stream",
     "text": [
      "\n",
      "[notice] A new release of pip is available: 23.3.1 -> 23.3.2\n",
      "[notice] To update, run: python.exe -m pip install --upgrade pip\n"
     ]
    }
   ],
   "source": [
    "%pip install sqlalchemy pyodbc pandas\n",
    "\n",
    "%pip install pyodbc"
   ]
  },
  {
   "cell_type": "markdown",
   "metadata": {},
   "source": [
    "#### **Consideraciones para mejorar los comentarios**"
   ]
  },
  {
   "cell_type": "code",
   "execution_count": 17,
   "metadata": {},
   "outputs": [
    {
     "data": {
      "text/plain": [
       "' Importante '"
      ]
     },
     "execution_count": 17,
     "metadata": {},
     "output_type": "execute_result"
    }
   ],
   "source": [
    "''' Importante '''\n",
    "# Todo:\n",
    "# !\n",
    "# ?"
   ]
  },
  {
   "cell_type": "markdown",
   "metadata": {},
   "source": [
    "#### **Consideraciones para mostrar los resultados de manera horizontal**"
   ]
  },
  {
   "cell_type": "code",
   "execution_count": 18,
   "metadata": {},
   "outputs": [
    {
     "data": {
      "text/plain": [
       "\"pd.set_option('display.expand_frame_repr', False)\""
      ]
     },
     "execution_count": 18,
     "metadata": {},
     "output_type": "execute_result"
    }
   ],
   "source": [
    "'''pd.set_option('display.expand_frame_repr', False)'''\n",
    "\n",
    "#! Importante para que nos muestre todo el resultado en forma horizontal."
   ]
  },
  {
   "cell_type": "markdown",
   "metadata": {},
   "source": [
    "#### **Conexión de base de datos**"
   ]
  },
  {
   "cell_type": "code",
   "execution_count": 47,
   "metadata": {},
   "outputs": [
    {
     "name": "stdout",
     "output_type": "stream",
     "text": [
      "Conexión Exitosa\n"
     ]
    }
   ],
   "source": [
    "# Parámetros de conexión\n",
    "server = 'DESKTOP-CK3D4E3\\\\SQLEXPRESS02'\n",
    "#database = 'tu_base_de_datos'\n",
    "#username = 'tu_usuario'\n",
    "#password = 'tu_contraseña'\n",
    "\n",
    "#! Llevamos a cabo la conexión con el servidor\n",
    "\n",
    "conexion = podbc.connect(driver= '{SQL server}', host = server)\n",
    "\n",
    "print(\"Conexión Exitosa\")\n",
    "\n",
    "#! Crear un cursor\n",
    "cursor = conexion.cursor()\n",
    "\n",
    "cursor.execute(\"CREATE DATABASE PORTFOLIO_PROYECT\")\n",
    "\n",
    "#! Nos aseguramos de cerrar la conexión\n",
    "\n",
    "conexion.close()\n",
    "\n",
    "#! Nos permite crear una base de datos, en nuestro ejemplo es \"DB_SQL_FOR_PYTHON\"."
   ]
  },
  {
   "cell_type": "markdown",
   "metadata": {},
   "source": [
    "#### **Consultas a nuestras tablas**"
   ]
  },
  {
   "cell_type": "code",
   "execution_count": 19,
   "metadata": {},
   "outputs": [],
   "source": [
    "def conexion_sql_server():\n",
    "# Nombre de nuestro DSN (puedes cambiarlo al DSN que has configurado)\n",
    "    dsn = 'Portfolio_Proyect'\n",
    "\n",
    "# Cadena de conexión SQLAlchemy utilizando DSN\n",
    "    connection_string = f\"mssql+pyodbc:///?odbc_connect={urllib.parse.quote_plus(f'DSN={dsn};Trusted_Connection=yes')}\"\n",
    "    engine = sqlalchemy.create_engine(connection_string, echo=False)\n",
    "\n",
    "# Devolver la conexión\n",
    "    return engine\n",
    "\n",
    "def select_to_df(sql_query, connection):\n",
    "    try:\n",
    "# Utilizamos la conexión para ejecutar la consulta y cargar los resultados en un DataFrame de Pandas\n",
    "        df = pd.read_sql_query(sql_query, connection)\n",
    "        return df\n",
    "    except Exception as e:\n",
    "        print(e)\n",
    "        return df"
   ]
  },
  {
   "cell_type": "code",
   "execution_count": 20,
   "metadata": {},
   "outputs": [
    {
     "name": "stdout",
     "output_type": "stream",
     "text": [
      "  iso_code continent      location       date  population  total_cases  new_cases  new_cases_smoothed  total_deaths  new_deaths  ...  new_deaths_smoothed_per_million  reproduction_rate  icu_patients  icu_patients_per_million  hosp_patients  hosp_patients_per_million  weekly_icu_admissions weekly_icu_admissions_per_million weekly_hosp_admissions weekly_hosp_admissions_per_million\n",
      "0      BFA    Africa  Burkina Faso 2023-04-27  22673764.0      22056.0        0.0                 0.0         396.0         0.0  ...                              0.0               None          None                      None           None                       None                   None                              None                   None                               None\n",
      "1      BFA    Africa  Burkina Faso 2023-04-28  22673764.0      22056.0        0.0                 0.0         396.0         0.0  ...                              0.0               None          None                      None           None                       None                   None                              None                   None                               None\n",
      "2      BFA    Africa  Burkina Faso 2023-04-29  22673764.0      22056.0        0.0                 0.0         396.0         0.0  ...                              0.0               None          None                      None           None                       None                   None                              None                   None                               None\n",
      "3      BFA    Africa  Burkina Faso 2023-04-30  22673764.0      22056.0        0.0                 0.0         396.0         0.0  ...                              0.0               None          None                      None           None                       None                   None                              None                   None                               None\n",
      "4      BFA    Africa  Burkina Faso 2023-05-01  22673764.0      22056.0        0.0                 0.0         396.0         0.0  ...                              0.0               None          None                      None           None                       None                   None                              None                   None                               None\n",
      "\n",
      "[5 rows x 26 columns]\n"
     ]
    }
   ],
   "source": [
    "# Conecta a la base de datos\n",
    "conexion = conexion_sql_server()\n",
    "\n",
    "pd.set_option('display.expand_frame_repr', False) #! Muestra los resultados de manera horizontal.\n",
    "\n",
    "# Realizamos la consulta y obtenemos los resultados en un DataFrame\n",
    "df = select_to_df(\"SELECT * FROM Covid_Deaths_1\", conexion)\n",
    "\n",
    "# Muestra el DataFrame\n",
    "print(df.head())\n",
    "\n",
    "# ! Nos permite hacer consultas y visualizarlas\n",
    "# Todo:\n",
    "# ?"
   ]
  },
  {
   "cell_type": "code",
   "execution_count": 21,
   "metadata": {},
   "outputs": [
    {
     "data": {
      "text/html": [
       "<div>\n",
       "<style scoped>\n",
       "    .dataframe tbody tr th:only-of-type {\n",
       "        vertical-align: middle;\n",
       "    }\n",
       "\n",
       "    .dataframe tbody tr th {\n",
       "        vertical-align: top;\n",
       "    }\n",
       "\n",
       "    .dataframe thead th {\n",
       "        text-align: right;\n",
       "    }\n",
       "</style>\n",
       "<table border=\"1\" class=\"dataframe\">\n",
       "  <thead>\n",
       "    <tr style=\"text-align: right;\">\n",
       "      <th></th>\n",
       "      <th>iso_code</th>\n",
       "      <th>continent</th>\n",
       "      <th>location</th>\n",
       "      <th>date</th>\n",
       "      <th>population</th>\n",
       "      <th>total_cases</th>\n",
       "      <th>new_cases</th>\n",
       "      <th>new_cases_smoothed</th>\n",
       "      <th>total_deaths</th>\n",
       "      <th>new_deaths</th>\n",
       "      <th>...</th>\n",
       "      <th>new_deaths_smoothed_per_million</th>\n",
       "      <th>reproduction_rate</th>\n",
       "      <th>icu_patients</th>\n",
       "      <th>icu_patients_per_million</th>\n",
       "      <th>hosp_patients</th>\n",
       "      <th>hosp_patients_per_million</th>\n",
       "      <th>weekly_icu_admissions</th>\n",
       "      <th>weekly_icu_admissions_per_million</th>\n",
       "      <th>weekly_hosp_admissions</th>\n",
       "      <th>weekly_hosp_admissions_per_million</th>\n",
       "    </tr>\n",
       "  </thead>\n",
       "  <tbody>\n",
       "    <tr>\n",
       "      <th>78005</th>\n",
       "      <td>OWID_AFR</td>\n",
       "      <td>None</td>\n",
       "      <td>Africa</td>\n",
       "      <td>2020-08-16</td>\n",
       "      <td>1.426737e+09</td>\n",
       "      <td>1114998.0</td>\n",
       "      <td>11677.0</td>\n",
       "      <td>10418857.0</td>\n",
       "      <td>27998.0</td>\n",
       "      <td>222.0</td>\n",
       "      <td>...</td>\n",
       "      <td>236.00</td>\n",
       "      <td>None</td>\n",
       "      <td>None</td>\n",
       "      <td>None</td>\n",
       "      <td>None</td>\n",
       "      <td>None</td>\n",
       "      <td>None</td>\n",
       "      <td>None</td>\n",
       "      <td>None</td>\n",
       "      <td>None</td>\n",
       "    </tr>\n",
       "    <tr>\n",
       "      <th>15877</th>\n",
       "      <td>KHM</td>\n",
       "      <td>Asia</td>\n",
       "      <td>Cambodia</td>\n",
       "      <td>2020-08-15</td>\n",
       "      <td>1.676785e+07</td>\n",
       "      <td>273.0</td>\n",
       "      <td>0.0</td>\n",
       "      <td>3857.0</td>\n",
       "      <td>NaN</td>\n",
       "      <td>0.0</td>\n",
       "      <td>...</td>\n",
       "      <td>0.00</td>\n",
       "      <td>0.24</td>\n",
       "      <td>None</td>\n",
       "      <td>None</td>\n",
       "      <td>None</td>\n",
       "      <td>None</td>\n",
       "      <td>None</td>\n",
       "      <td>None</td>\n",
       "      <td>None</td>\n",
       "      <td>None</td>\n",
       "    </tr>\n",
       "    <tr>\n",
       "      <th>79365</th>\n",
       "      <td>ARG</td>\n",
       "      <td>South America</td>\n",
       "      <td>Argentina</td>\n",
       "      <td>2021-11-11</td>\n",
       "      <td>4.551032e+07</td>\n",
       "      <td>5374210.0</td>\n",
       "      <td>1561.0</td>\n",
       "      <td>1306857.0</td>\n",
       "      <td>116941.0</td>\n",
       "      <td>12.0</td>\n",
       "      <td>...</td>\n",
       "      <td>0.22</td>\n",
       "      <td>01.07</td>\n",
       "      <td>651.0</td>\n",
       "      <td>14,304</td>\n",
       "      <td>None</td>\n",
       "      <td>None</td>\n",
       "      <td>None</td>\n",
       "      <td>None</td>\n",
       "      <td>None</td>\n",
       "      <td>None</td>\n",
       "    </tr>\n",
       "    <tr>\n",
       "      <th>46819</th>\n",
       "      <td>AGO</td>\n",
       "      <td>Africa</td>\n",
       "      <td>Angola</td>\n",
       "      <td>2022-12-21</td>\n",
       "      <td>3.558900e+07</td>\n",
       "      <td>105056.0</td>\n",
       "      <td>13.0</td>\n",
       "      <td>9571.0</td>\n",
       "      <td>1929.0</td>\n",
       "      <td>1.0</td>\n",
       "      <td>...</td>\n",
       "      <td>4.00</td>\n",
       "      <td>0.35</td>\n",
       "      <td>None</td>\n",
       "      <td>None</td>\n",
       "      <td>None</td>\n",
       "      <td>None</td>\n",
       "      <td>None</td>\n",
       "      <td>None</td>\n",
       "      <td>None</td>\n",
       "      <td>None</td>\n",
       "    </tr>\n",
       "    <tr>\n",
       "      <th>91566</th>\n",
       "      <td>BFA</td>\n",
       "      <td>Africa</td>\n",
       "      <td>Burkina Faso</td>\n",
       "      <td>2020-12-10</td>\n",
       "      <td>2.267376e+07</td>\n",
       "      <td>3750.0</td>\n",
       "      <td>171.0</td>\n",
       "      <td>98286.0</td>\n",
       "      <td>71.0</td>\n",
       "      <td>2.0</td>\n",
       "      <td>...</td>\n",
       "      <td>19.00</td>\n",
       "      <td>1.51</td>\n",
       "      <td>None</td>\n",
       "      <td>None</td>\n",
       "      <td>None</td>\n",
       "      <td>None</td>\n",
       "      <td>None</td>\n",
       "      <td>None</td>\n",
       "      <td>None</td>\n",
       "      <td>None</td>\n",
       "    </tr>\n",
       "  </tbody>\n",
       "</table>\n",
       "<p>5 rows × 26 columns</p>\n",
       "</div>"
      ],
      "text/plain": [
       "       iso_code      continent      location       date    population  total_cases  new_cases  new_cases_smoothed  total_deaths  new_deaths  ...  new_deaths_smoothed_per_million  reproduction_rate  icu_patients  icu_patients_per_million  hosp_patients  hosp_patients_per_million  weekly_icu_admissions weekly_icu_admissions_per_million weekly_hosp_admissions weekly_hosp_admissions_per_million\n",
       "78005  OWID_AFR           None        Africa 2020-08-16  1.426737e+09    1114998.0    11677.0          10418857.0       27998.0       222.0  ...                           236.00               None          None                      None           None                       None                   None                              None                   None                               None\n",
       "15877       KHM           Asia      Cambodia 2020-08-15  1.676785e+07        273.0        0.0              3857.0           NaN         0.0  ...                             0.00               0.24          None                      None           None                       None                   None                              None                   None                               None\n",
       "79365       ARG  South America     Argentina 2021-11-11  4.551032e+07    5374210.0     1561.0           1306857.0      116941.0        12.0  ...                             0.22              01.07         651.0                    14,304           None                       None                   None                              None                   None                               None\n",
       "46819       AGO         Africa        Angola 2022-12-21  3.558900e+07     105056.0       13.0              9571.0        1929.0         1.0  ...                             4.00               0.35          None                      None           None                       None                   None                              None                   None                               None\n",
       "91566       BFA         Africa  Burkina Faso 2020-12-10  2.267376e+07       3750.0      171.0             98286.0          71.0         2.0  ...                            19.00               1.51          None                      None           None                       None                   None                              None                   None                               None\n",
       "\n",
       "[5 rows x 26 columns]"
      ]
     },
     "execution_count": 21,
     "metadata": {},
     "output_type": "execute_result"
    }
   ],
   "source": [
    "df.sample(5)\n",
    "\n",
    "# Nos permite mostrar valores de manera aleatoria."
   ]
  },
  {
   "cell_type": "code",
   "execution_count": 22,
   "metadata": {},
   "outputs": [
    {
     "name": "stdout",
     "output_type": "stream",
     "text": [
      "<class 'pandas.core.frame.DataFrame'>\n",
      "RangeIndex: 100000 entries, 0 to 99999\n",
      "Data columns (total 26 columns):\n",
      " #   Column                              Non-Null Count   Dtype         \n",
      "---  ------                              --------------   -----         \n",
      " 0   iso_code                            100000 non-null  object        \n",
      " 1   continent                           97093 non-null   object        \n",
      " 2   location                            100000 non-null  object        \n",
      " 3   date                                100000 non-null  datetime64[ns]\n",
      " 4   population                          100000 non-null  float64       \n",
      " 5   total_cases                         92891 non-null   float64       \n",
      " 6   new_cases                           98563 non-null   float64       \n",
      " 7   new_cases_smoothed                  98213 non-null   float64       \n",
      " 8   total_deaths                        89127 non-null   float64       \n",
      " 9   new_deaths                          98569 non-null   float64       \n",
      " 10  new_deaths_smoothed                 98224 non-null   float64       \n",
      " 11  total_cases_per_million             92891 non-null   float64       \n",
      " 12  new_cases_per_million               98563 non-null   float64       \n",
      " 13  new_cases_smoothed_per_million      98213 non-null   float64       \n",
      " 14  total_deaths_per_million            89127 non-null   float64       \n",
      " 15  new_deaths_per_million              98569 non-null   float64       \n",
      " 16  new_deaths_smoothed_per_million     98224 non-null   float64       \n",
      " 17  reproduction_rate                   56467 non-null   object        \n",
      " 18  icu_patients                        13256 non-null   object        \n",
      " 19  icu_patients_per_million            13256 non-null   object        \n",
      " 20  hosp_patients                       12551 non-null   object        \n",
      " 21  hosp_patients_per_million           12551 non-null   object        \n",
      " 22  weekly_icu_admissions               2902 non-null    object        \n",
      " 23  weekly_icu_admissions_per_million   2902 non-null    object        \n",
      " 24  weekly_hosp_admissions              6697 non-null    object        \n",
      " 25  weekly_hosp_admissions_per_million  6697 non-null    object        \n",
      "dtypes: datetime64[ns](1), float64(13), object(12)\n",
      "memory usage: 19.8+ MB\n"
     ]
    }
   ],
   "source": [
    "df.info()"
   ]
  },
  {
   "cell_type": "code",
   "execution_count": 23,
   "metadata": {},
   "outputs": [
    {
     "data": {
      "text/plain": [
       "'\\nSelect Data that we are going to be using\\n'"
      ]
     },
     "execution_count": 23,
     "metadata": {},
     "output_type": "execute_result"
    }
   ],
   "source": [
    "'''\n",
    "Select Data that we are going to be using\n",
    "'''"
   ]
  },
  {
   "cell_type": "code",
   "execution_count": 24,
   "metadata": {},
   "outputs": [
    {
     "name": "stdout",
     "output_type": "stream",
     "text": [
      "           Location       date  total_cases  new_cases  total_deaths  population\n",
      "78036   El Salvador 2021-12-14     121200.0     1397.0        3797.0   6336393.0\n",
      "30644       Estonia 2021-01-09      34740.0        0.0         323.0   1326064.0\n",
      "33361          Cuba 2022-11-29    1111379.0        4.0        8530.0  11212198.0\n",
      "82276    Costa Rica 2020-01-15          NaN        0.0           NaN   5180836.0\n",
      "72509        Brunei 2023-09-19     311236.0        0.0         163.0    449002.0\n",
      "52531    Azerbaijan 2021-09-28     481401.0      558.0        6476.0  10358078.0\n",
      "92372    Costa Rica 2023-03-16    1214651.0        0.0        9266.0   5180836.0\n",
      "78726  Cook Islands 2022-10-12       6389.0        0.0           1.0     17032.0\n",
      "94704       Armenia 2023-09-27     449650.0        0.0        8751.0   2780472.0\n",
      "21186       Eritrea 2022-05-26       9756.0        1.0         103.0   3684041.0\n"
     ]
    }
   ],
   "source": [
    "conexion = conexion_sql_server()\n",
    "\n",
    "pd.set_option('display.expand_frame_repr', False) #! Muestra los resultados de manera horizontal.\n",
    "\n",
    "df = select_to_df('''SELECT Location, date, total_cases, new_cases,\n",
    "                        total_deaths, population                    \n",
    "                    FROM Covid_Deaths_1\n",
    "                    WHERE continent is not null;\n",
    "                        ''', conexion)\n",
    "\n",
    "print(df.sample(10))\n",
    "\n",
    "#! Nos permite hacer consultas y visualizarlas.\n",
    "#! Selecionamos solo algunas columnas de la tabla \"Covid_Deaths_1\" y las mostramos.\n",
    "#! By: Jaime Araujo."
   ]
  },
  {
   "cell_type": "code",
   "execution_count": 25,
   "metadata": {},
   "outputs": [
    {
     "data": {
      "text/plain": [
       "'\\nLooking at Total Cases vs Total Deaths\\nShows likelihood of dying if you contract covid in your country\\n'"
      ]
     },
     "execution_count": 25,
     "metadata": {},
     "output_type": "execute_result"
    }
   ],
   "source": [
    "'''\n",
    "Looking at Total Cases vs Total Deaths\n",
    "Shows likelihood of dying if you contract covid in your country\n",
    "'''"
   ]
  },
  {
   "cell_type": "code",
   "execution_count": 26,
   "metadata": {},
   "outputs": [
    {
     "name": "stdout",
     "output_type": "stream",
     "text": [
      "                     Location       date  total_cases  total_deaths  Death_Percentage\n",
      "15670  Bosnia and Herzegovina 2021-03-01     132138.0        5096.0          3.856574\n",
      "32957      Dominican Republic 2020-05-07       8807.0         362.0          4.110367\n",
      "38585                  Brazil 2020-10-20    5235344.0      153905.0          2.939730\n",
      "76105               Argentina 2021-06-21    4380527.0      101469.0          2.316365\n",
      "12893                 Belarus 2020-10-27      93707.0         961.0          1.025537\n",
      "50282                   Benin 2021-01-26       3643.0          48.0          1.317595\n",
      "12839                 Belarus 2020-09-03      72141.0         691.0          0.957846\n",
      "14579                 Croatia 2021-01-24     228568.0        4799.0          2.099594\n",
      "63034                 Bermuda 2021-07-02       2514.0          33.0          1.312649\n",
      "92993                 Armenia 2023-04-21     448980.0        8746.0          1.947971\n"
     ]
    }
   ],
   "source": [
    "conexion = conexion_sql_server()\n",
    "\n",
    "pd.set_option('display.expand_frame_repr', False) #! Muestra los resultados de manera horizontal.\n",
    "\n",
    "df = select_to_df('''SELECT Location, date, total_cases,\n",
    "                        total_deaths,\n",
    "                        (CAST(total_deaths AS decimal(18,4)) / CAST(total_cases AS decimal(18, 4)))*100 AS Death_Percentage\n",
    "                    FROM Covid_Deaths_1\n",
    "                    WHERE continent is not null;\n",
    "                        ''', conexion)\n",
    "\n",
    "print(df.sample(10))\n",
    "\n",
    "#df.sample(10)\n",
    "\n",
    "#! Nos permite hacer consultas y visualizarlas.\n",
    "#! Selecionamos solo algunas columnas de la tabla \"Covid_Deaths_1\" y las mostramos.\n",
    "#! Creamos una columna con el % de muertes. (deaths / cases)\n",
    "#! WHERE continent is not null, elimina los valores vacios de la columna \"continent\"\n",
    "#! By: Jaime Araujo."
   ]
  },
  {
   "cell_type": "code",
   "execution_count": 27,
   "metadata": {},
   "outputs": [
    {
     "name": "stdout",
     "output_type": "stream",
     "text": [
      "    Location       date  total_cases  total_deaths  Death_Percentage\n",
      "0  Argentina 2020-03-05         10.0           1.0         10.000000\n",
      "1  Argentina 2020-03-10         34.0           3.0          8.823529\n",
      "2  Argentina 2020-05-05       7178.0         568.0          7.913068\n",
      "3  Argentina 2020-05-04       6949.0         547.0          7.871636\n",
      "4  Argentina 2020-03-13        102.0           8.0          7.843137\n",
      "5  Argentina 2020-03-14        115.0           9.0          7.826087\n",
      "6  Argentina 2020-05-01       6463.0         505.0          7.813709\n",
      "7  Argentina 2020-05-02       6629.0         517.0          7.799065\n",
      "8  Argentina 2020-05-06       7476.0         583.0          7.798288\n",
      "9  Argentina 2020-05-03       6753.0         526.0          7.789131\n"
     ]
    }
   ],
   "source": [
    "conexion = conexion_sql_server()\n",
    "\n",
    "pd.set_option('display.expand_frame_repr', False) #! Muestra los resultados de manera horizontal.\n",
    "\n",
    "df = select_to_df('''SELECT Location, date, total_cases,\n",
    "                        total_deaths,\n",
    "                        (CAST(total_deaths AS decimal(18,4)) / CAST(total_cases AS decimal(18, 4)))*100 AS Death_Percentage\n",
    "                    FROM Covid_Deaths_1\n",
    "                    WHERE Location LIKE '%Argentina%'\n",
    "                    AND continent is not null\n",
    "                    ORDER BY Death_Percentage DESC;\n",
    "                        ''', conexion)\n",
    "\n",
    "print(df.head(10)) # Nos muestra los primeros 10 valores.\n",
    "\n",
    "#print(df.tail(10)) # Nos muestra los ultimos 10 valores.\n",
    "\n",
    "#! Nos permite hacer consultas y visualizarlas.\n",
    "#! Selecionamos solo algunas columnas de la tabla \"Covid_Deaths_1\" y las mostramos.\n",
    "#! Creamos una columna con el % de muertes. (deaths / cases).\n",
    "#! Solo consideramos la Location \"Argentina\".\n",
    "#! Ordenamos los valores por medio de la columna \"Death_Percentage\" DESC.\n",
    "#! WHERE continent is not null, elimina los valores vacios de la columna \"continent\"\n",
    "#! By: Jaime Araujo."
   ]
  },
  {
   "cell_type": "code",
   "execution_count": 28,
   "metadata": {},
   "outputs": [
    {
     "name": "stdout",
     "output_type": "stream",
     "text": [
      "    Location       date  total_cases  total_deaths  new_deaths  Death_Percentage\n",
      "0  Argentina 2020-03-05         10.0           1.0         1.0         10.000000\n",
      "1  Argentina 2020-03-10         34.0           3.0         2.0          8.823529\n",
      "2  Argentina 2020-05-05       7178.0         568.0        21.0          7.913068\n",
      "3  Argentina 2020-05-04       6949.0         547.0        21.0          7.871636\n",
      "4  Argentina 2020-03-13        102.0           8.0         4.0          7.843137\n",
      "5  Argentina 2020-03-14        115.0           9.0         1.0          7.826087\n",
      "6  Argentina 2020-05-01       6463.0         505.0        17.0          7.813709\n",
      "7  Argentina 2020-05-02       6629.0         517.0        12.0          7.799065\n",
      "8  Argentina 2020-05-06       7476.0         583.0        15.0          7.798288\n",
      "9  Argentina 2020-05-03       6753.0         526.0         9.0          7.789131\n"
     ]
    }
   ],
   "source": [
    "conexion = conexion_sql_server()\n",
    "\n",
    "pd.set_option('display.expand_frame_repr', False) #! Muestra los resultados de manera horizontal.\n",
    "\n",
    "df = select_to_df('''SELECT Location, date, total_cases,\n",
    "                        total_deaths, new_deaths,\n",
    "                        (CAST(total_deaths AS decimal(18,4)) / CAST(total_cases AS decimal(18, 4)))*100 AS Death_Percentage\n",
    "                    FROM Covid_Deaths_1\n",
    "                    WHERE Location LIKE '%Argentina%'\n",
    "                    AND continent is not null\n",
    "                    ORDER BY 6 DESC;\n",
    "                        ''', conexion)\n",
    "\n",
    "print(df.head(10)) #! Nos muestra los primeros 10 valores.\n",
    "\n",
    "#print(df.tail(10)) #! Nos muestra los ultimos 10 valores.\n",
    "\n",
    "#! Nos permite hacer consultas y visualizarlas.\n",
    "#! Selecionamos solo algunas columnas de la tabla \"Covid_Deaths_1\" y las mostramos.\n",
    "#! Creamos una columna con el % de muertes. (deaths / cases).\n",
    "#! Solo consideramos la Location \"Argentina\".\n",
    "#! Ordenamos los valores por medio de la columna \"5\" DESC.\n",
    "#! WHERE continent is not null, elimina los valores vacios de la columna \"continent\"\n",
    "#! By: Jaime Araujo."
   ]
  },
  {
   "cell_type": "code",
   "execution_count": 29,
   "metadata": {},
   "outputs": [
    {
     "data": {
      "text/plain": [
       "'\\nLooking at Total Cases vs Population\\nShows what percentage of population got Covid\\n'"
      ]
     },
     "execution_count": 29,
     "metadata": {},
     "output_type": "execute_result"
    }
   ],
   "source": [
    "'''\n",
    "Looking at Total Cases vs Population\n",
    "Shows what percentage of population got Covid\n",
    "'''"
   ]
  },
  {
   "cell_type": "code",
   "execution_count": 30,
   "metadata": {},
   "outputs": [
    {
     "name": "stdout",
     "output_type": "stream",
     "text": [
      "    Location       date  population  total_cases  Percent_Population\n",
      "0  Argentina 2023-12-04  45510324.0   10074137.0           22.135938\n",
      "1  Argentina 2023-12-05  45510324.0   10074137.0           22.135938\n",
      "2  Argentina 2023-12-06  45510324.0   10074137.0           22.135938\n",
      "3  Argentina 2023-12-07  45510324.0   10074137.0           22.135938\n",
      "4  Argentina 2023-12-08  45510324.0   10074137.0           22.135938\n",
      "5  Argentina 2023-12-09  45510324.0   10074137.0           22.135938\n",
      "6  Argentina 2023-12-10  45510324.0   10074137.0           22.135938\n",
      "7  Argentina 2023-12-11  45510324.0   10074137.0           22.135938\n",
      "8  Argentina 2023-12-12  45510324.0   10074137.0           22.135938\n",
      "9  Argentina 2023-12-13  45510324.0   10074137.0           22.135938\n"
     ]
    }
   ],
   "source": [
    "conexion = conexion_sql_server()\n",
    "\n",
    "pd.set_option('display.expand_frame_repr', False) #! Muestra los resultados de manera horizontal.\n",
    "\n",
    "df = select_to_df('''SELECT Location, date, population,\n",
    "                    total_cases,\n",
    "                        (CAST(total_cases AS decimal(18,4)) / CAST(population AS decimal(18, 4)))*100 AS Percent_Population\n",
    "                    FROM Covid_Deaths_1\n",
    "                    WHERE Location LIKE '%Argentina%'\n",
    "                    AND continent is not null\n",
    "                    ORDER BY 5 DESC;\n",
    "                        ''', conexion)\n",
    "\n",
    "print(df.head(10)) #! Nos muestra los primeros 10 valores.\n",
    "\n",
    "#print(df.tail(10)) #! Nos muestra los ultimos 10 valores.\n",
    "\n",
    "#! Nos permite hacer consultas y visualizarlas.\n",
    "#! Selecionamos solo algunas columnas de la tabla \"Covid_Deaths_1\" y las mostramos.\n",
    "#! Creamos una columna con el % de muertes. (total_cases / population).\n",
    "#! Solo consideramos la Location \"Argentina\".\n",
    "#! Ordenamos los valores por medio de la columna \"5\" DESC.\n",
    "#! WHERE continent is not null, elimina los valores vacios de la columna \"continent\"\n",
    "#! By: Jaime Araujo."
   ]
  },
  {
   "cell_type": "code",
   "execution_count": 31,
   "metadata": {},
   "outputs": [
    {
     "name": "stdout",
     "output_type": "stream",
     "text": [
      "    Location       date  population  total_cases  new_deaths  Percent_Population\n",
      "0  Argentina 2021-05-26  45510324.0    3754870.0       926.0            8.250589\n",
      "1  Argentina 2021-05-17  45510324.0    3467566.0       878.0            7.619295\n",
      "2  Argentina 2021-05-31  45510324.0    3908620.0       820.0            8.588425\n",
      "3  Argentina 2021-05-27  45510324.0    3795404.0       774.0            8.339655\n",
      "4  Argentina 2021-05-19  45510324.0    3544060.0       756.0            7.787376\n",
      "5  Argentina 2021-05-28  45510324.0    3832586.0       743.0            8.421355\n",
      "6  Argentina 2021-05-18  45510324.0    3506876.0       738.0            7.705671\n",
      "7  Argentina 2021-05-20  45510324.0    3580895.0       697.0            7.868314\n",
      "8  Argentina 2021-06-02  45510324.0    3975238.0       674.0            8.734805\n",
      "9  Argentina 2021-05-10  45510324.0    3289632.0       669.0            7.228320\n"
     ]
    }
   ],
   "source": [
    "conexion = conexion_sql_server()\n",
    "\n",
    "pd.set_option('display.expand_frame_repr', False) #! Muestra los resultados de manera horizontal.\n",
    "\n",
    "df = select_to_df('''SELECT Location, date, population,\n",
    "                    total_cases, new_deaths,\n",
    "                        (CAST(total_cases AS decimal(18,4)) / CAST(population AS decimal(18, 4)))*100 AS Percent_Population\n",
    "                    FROM Covid_Deaths_1\n",
    "                    WHERE Location LIKE '%Argentina%'\n",
    "                    AND continent is not null\n",
    "                    ORDER BY 5 DESC;\n",
    "                        ''', conexion)\n",
    "\n",
    "print(df.head(10)) #! Nos muestra los primeros 10 valores.\n",
    "\n",
    "#print(df.tail(10)) #! Nos muestra los ultimos 10 valores.\n",
    "\n",
    "#! Nos permite hacer consultas y visualizarlas.\n",
    "#! Selecionamos solo algunas columnas de la tabla \"Covid_Deaths_2\" y las mostramos.\n",
    "#! Creamos una columna con el % de muertes. (total_cases / population).\n",
    "#! Solo consideramos la Location \"Argentina\".\n",
    "#! Ordenamos los valores por medio de la columna \"5\" DESC.\n",
    "#! WHERE continent is not null, elimina los valores vacios de la columna \"continent\"\n",
    "#! By: Jaime Araujo."
   ]
  },
  {
   "cell_type": "code",
   "execution_count": 32,
   "metadata": {},
   "outputs": [
    {
     "name": "stdout",
     "output_type": "stream",
     "text": [
      "Index(['iso_code', 'continent', 'location', 'date', 'population',\n",
      "       'total_cases', 'new_cases', 'new_cases_smoothed', 'total_deaths',\n",
      "       'new_deaths', 'new_deaths_smoothed', 'total_cases_per_million',\n",
      "       'new_cases_per_million', 'new_cases_smoothed_per_million',\n",
      "       'total_deaths_per_million', 'new_deaths_per_million',\n",
      "       'new_deaths_smoothed_per_million', 'reproduction_rate', 'icu_patients',\n",
      "       'icu_patients_per_million', 'hosp_patients',\n",
      "       'hosp_patients_per_million', 'weekly_icu_admissions',\n",
      "       'weekly_icu_admissions_per_million', 'weekly_hosp_admissions',\n",
      "       'weekly_hosp_admissions_per_million'],\n",
      "      dtype='object')\n"
     ]
    }
   ],
   "source": [
    "conexion = conexion_sql_server()\n",
    "\n",
    "pd.set_option('display.expand_frame_repr', False) #! Muestra los resultados de manera horizontal.\n",
    "\n",
    "df = select_to_df('''SELECT *\n",
    "                    FROM Covid_Deaths_1;\n",
    "                        ''', conexion)\n",
    "\n",
    "print(df.columns) #! Nos muestra los primeros 10 valores.\n",
    "\n",
    "#print(df.tail(10)) #! Nos muestra los ultimos 10 valores.\n",
    "\n",
    "#! Nos permite hacer consultas y visualizarlas.\n",
    "#! Nos permite visualizar los nombres de nuestras columnas.\n",
    "#! By: Jaime Araujo."
   ]
  },
  {
   "cell_type": "code",
   "execution_count": 33,
   "metadata": {},
   "outputs": [
    {
     "data": {
      "text/plain": [
       "'\\nLooking at Countries with Highest Infection Rate compared to Population\\n'"
      ]
     },
     "execution_count": 33,
     "metadata": {},
     "output_type": "execute_result"
    }
   ],
   "source": [
    "'''\n",
    "Looking at Countries with Highest Infection Rate compared to Population\n",
    "'''"
   ]
  },
  {
   "cell_type": "code",
   "execution_count": 34,
   "metadata": {},
   "outputs": [
    {
     "name": "stdout",
     "output_type": "stream",
     "text": [
      "         Location  population  HighestInfectionCount  Percent_Population_Infected\n",
      "0          Cyprus    896007.0               660854.0                    73.755451\n",
      "1          Brunei    449002.0               321235.0                    71.544225\n",
      "2         Austria   8939617.0              6081287.0                    68.026259\n",
      "3         Andorra     79843.0                48015.0                    60.136768\n",
      "4         Denmark   5882259.0              3423176.0                    58.194921\n",
      "5         Bahrain   1472237.0               696614.0                    47.316702\n",
      "6  Cayman Islands     68722.0                31472.0                    45.796106\n",
      "7         Estonia   1326064.0               604950.0                    45.619970\n",
      "8         Czechia  10493990.0              4713739.0                    44.918463\n",
      "9       Australia  26177410.0             11698780.0                    44.690365\n"
     ]
    }
   ],
   "source": [
    "conexion = conexion_sql_server()\n",
    "\n",
    "pd.set_option('display.expand_frame_repr', False) #! Muestra los resultados de manera horizontal.\n",
    "\n",
    "df = select_to_df('''SELECT Location, population,\n",
    "                    MAX(total_cases) AS HighestInfectionCount,\n",
    "                        MAX((CAST(total_cases AS decimal(18,4)) / CAST(population AS decimal(18, 4))))*100 AS Percent_Population_Infected\n",
    "                    FROM Covid_Deaths_1\n",
    "                    WHERE continent is not null\n",
    "                    GROUP BY Location, population\n",
    "                    ORDER BY 4 DESC;\n",
    "                        ''', conexion)\n",
    "\n",
    "print(df.head(10)) #! Nos muestra los primeros 10 valores.\n",
    "\n",
    "#print(df.tail(10)) #! Nos muestra los ultimos 10 valores.\n",
    "\n",
    "#! Nos permite hacer consultas y visualizarlas.\n",
    "#! Selecionamos solo algunas columnas de la tabla \"Covid_Deaths_1\" y las mostramos.\n",
    "#! Creamos una columna con el % de muertes. (total_cases / population).\n",
    "#! Calculamos el numero más alto de infecciones \"HighestInfectionCount\".\n",
    "#! Calculamos el % más alto de la población infectada.\n",
    "#! Ordenamos los valores por medio de la columna \"4\" DESC.\n",
    "#! WHERE continent is not null, elimina los valores vacios de la columna \"continent\"\n",
    "#! By: Jaime Araujo."
   ]
  },
  {
   "cell_type": "code",
   "execution_count": 35,
   "metadata": {},
   "outputs": [
    {
     "data": {
      "text/plain": [
       "'\\nShowing Countries with Highest Death Count per Population\\n'"
      ]
     },
     "execution_count": 35,
     "metadata": {},
     "output_type": "execute_result"
    }
   ],
   "source": [
    "'''\n",
    "Showing Countries with Highest Death Count per Population\n",
    "'''"
   ]
  },
  {
   "cell_type": "code",
   "execution_count": 36,
   "metadata": {},
   "outputs": [
    {
     "name": "stdout",
     "output_type": "stream",
     "text": [
      "    Location  TotalDeathCount  Last_time\n",
      "0     Brazil         702116.0 2023-12-19\n",
      "1   Colombia         142727.0 2023-12-19\n",
      "2  Argentina         130682.0 2023-12-31\n",
      "3      China         121880.0 2023-12-19\n",
      "4      Chile          64497.0 2023-12-19\n",
      "5     Canada          53470.0 2023-12-19\n",
      "6    Czechia          43153.0 2024-01-02\n",
      "7   Bulgaria          38539.0 2023-12-21\n",
      "8    Ecuador          36036.0 2023-12-19\n",
      "9    Belgium          34339.0 2023-12-19\n"
     ]
    }
   ],
   "source": [
    "conexion = conexion_sql_server()\n",
    "\n",
    "pd.set_option('display.expand_frame_repr', False) #! Muestra los resultados de manera horizontal.\n",
    "\n",
    "df = select_to_df('''SELECT Location, MAX (CAST(total_deaths AS float)) AS TotalDeathCount,\n",
    "                  MAX (date) AS Last_time\n",
    "                    FROM Covid_Deaths_1\n",
    "                    WHERE continent is not null\n",
    "                    GROUP BY Location\n",
    "                    ORDER BY TotalDeathCount DESC;\n",
    "                        ''', conexion)\n",
    "\n",
    "print(df.head(10)) #! Nos muestra los primeros 10 valores.\n",
    "\n",
    "#print(df.tail(10)) #! Nos muestra los ultimos 10 valores.\n",
    "\n",
    "#! Nos permite hacer consultas y visualizarlas.\n",
    "#! Selecionamos solo algunas columnas de la tabla \"Covid_Deaths_1\" y las mostramos.\n",
    "#! Calculamos el valor maximo de muertes totales.\n",
    "#! Agrupamos los valores por \"Location\"\n",
    "#! Ordenamos los valores por medio de la columna \"TotalDeathCount\" DESC.\n",
    "#! CAST(total_deaths AS int), nos permite cambiar el tipo de dato.\n",
    "#! WHERE continent is not null, elimina los valores vacios de la columna \"continent\"\n",
    "#! MAX (date) AS Last_time, agregamos la ultima fecha con registro de datos.\n",
    "#! By: Jaime Araujo."
   ]
  },
  {
   "cell_type": "code",
   "execution_count": 37,
   "metadata": {},
   "outputs": [
    {
     "data": {
      "text/plain": [
       "'\\nLet´s break things down by continent\\n'"
      ]
     },
     "execution_count": 37,
     "metadata": {},
     "output_type": "execute_result"
    }
   ],
   "source": [
    "'''\n",
    "Let´s break things down by continent\n",
    "'''"
   ]
  },
  {
   "cell_type": "code",
   "execution_count": 38,
   "metadata": {},
   "outputs": [
    {
     "name": "stdout",
     "output_type": "stream",
     "text": [
      "       continent  TotalDeathCount  Last_time\n",
      "0  South America         702116.0 2023-12-31\n",
      "1           Asia         121880.0 2023-12-19\n",
      "2  North America          53470.0 2023-12-28\n",
      "3         Europe          43153.0 2024-01-02\n",
      "4         Africa          24830.0 2023-12-19\n",
      "5        Oceania          23915.0 2023-12-19\n"
     ]
    }
   ],
   "source": [
    "conexion = conexion_sql_server()\n",
    "\n",
    "pd.set_option('display.expand_frame_repr', False) #! Muestra los resultados de manera horizontal.\n",
    "\n",
    "df = select_to_df('''SELECT continent, MAX (CAST(total_deaths AS float)) AS TotalDeathCount,\n",
    "                  MAX (date) AS Last_time\n",
    "                    FROM Covid_Deaths_1\n",
    "                    WHERE continent is not null\n",
    "                    GROUP BY continent\n",
    "                    ORDER BY TotalDeathCount DESC;\n",
    "                        ''', conexion)\n",
    "\n",
    "print(df.head(10)) #! Nos muestra los primeros 10 valores.\n",
    "\n",
    "#print(df.tail(10)) #! Nos muestra los ultimos 10 valores.\n",
    "\n",
    "#! Nos permite hacer consultas y visualizarlas.\n",
    "#! Selecionamos solo algunas columnas de la tabla \"Covid_Deaths_1\" y las mostramos.\n",
    "#! Calculamos el valor maximo de muertes totales.\n",
    "#! Agrupamos los valores por \"continent\"\n",
    "#! Ordenamos los valores por medio de la columna \"TotalDeathCount\" DESC.\n",
    "#! CAST(total_deaths AS int), nos permite cambiar el tipo de dato.\n",
    "#! WHERE continent is not null, elimina los valores vacios de la columna \"continent\"\n",
    "#! MAX (date) AS Last_time, agregamos la ultima fecha con registro de datos.\n",
    "#! By: Jaime Araujo."
   ]
  },
  {
   "cell_type": "code",
   "execution_count": 39,
   "metadata": {},
   "outputs": [
    {
     "name": "stdout",
     "output_type": "stream",
     "text": [
      "          date  Total_New_Cases  Total_New_Deaths\n",
      "133 2020-05-13          16460.0             917.0\n"
     ]
    }
   ],
   "source": [
    "conexion = conexion_sql_server()\n",
    "\n",
    "pd.set_option('display.expand_frame_repr', False) #! Muestra los resultados de manera horizontal.\n",
    "\n",
    "df = select_to_df('''SELECT date, SUM (CAST(new_cases AS float)) AS Total_New_Cases,\n",
    "                  SUM(CAST(new_deaths AS float)) AS Total_New_Deaths\n",
    "                    FROM Covid_Deaths_1\n",
    "                    WHERE continent is not null\n",
    "                    GROUP BY date\n",
    "                    ORDER BY 1,2 DESC;\n",
    "                        ''', conexion)\n",
    "\n",
    "#print(df.sample(10)) #! Nos muestra los primeros 10 valores.\n",
    "#print(df.tail(10)) #! Nos muestra los ultimos 10 valores.\n",
    "\n",
    "Test = df[df['date'] == '2020-05-13'] #! Filtramos la columna 'date' por medio de un valor especifico.\n",
    "print (Test)\n",
    "\n",
    "#! Nos permite hacer consultas y visualizarlas.\n",
    "#! Selecionamos solo algunas columnas de la tabla \"Covid_Deaths_1\" y las mostramos.\n",
    "#! Calculamos la suma de \"new_cases\" y \"new_deaths\".\n",
    "#! Agrupamos los valores por la columna \"date\".\n",
    "#! Ordenamos los valores por medio de la columna \"date\", \"Total_New_Cases\" DESC.\n",
    "#! By: Jaime Araujo."
   ]
  },
  {
   "cell_type": "code",
   "execution_count": 40,
   "metadata": {},
   "outputs": [
    {
     "name": "stdout",
     "output_type": "stream",
     "text": [
      "           date  Total_New_Cases  Total_New_Deaths  DeathPercentage\n",
      "1329 2020-05-13          16460.0             917.0         5.571081\n"
     ]
    }
   ],
   "source": [
    "conexion = conexion_sql_server()\n",
    "\n",
    "pd.set_option('display.expand_frame_repr', False) #! Muestra los resultados de manera horizontal.\n",
    "\n",
    "df = select_to_df('''SELECT date,\n",
    "                    SUM(ISNULL(new_cases, 0)) AS Total_New_Cases,\n",
    "                    SUM(ISNULL(new_deaths, 0)) AS Total_New_Deaths,\n",
    "                    CASE\n",
    "                        WHEN SUM(ISNULL(new_cases, 0)) = 0 THEN 0  -- Para evitar la división por cero\n",
    "                        ELSE CAST(SUM(ISNULL(new_deaths, 0)) AS DECIMAL(18, 4)) / CAST(SUM(ISNULL(new_cases, 0)) AS DECIMAL(18, 4)) * 100\n",
    "                    END AS DeathPercentage\n",
    "                FROM Covid_Deaths_1\n",
    "                WHERE continent IS NOT NULL\n",
    "                GROUP BY date\n",
    "                ORDER BY date DESC, Total_New_Cases DESC;\n",
    "                        ''', conexion)\n",
    "\n",
    "#print(df.sample(10)) #! Nos muestra los primeros 10 valores.\n",
    "#print(df.tail(10)) #! Nos muestra los ultimos 10 valores.\n",
    "\n",
    "Test = df[df['date'] == '2020-05-13'] #! Filtramos la columna 'date' por medio de un valor especifico.\n",
    "print (Test)\n",
    "\n",
    "#! Nos permite hacer consultas y visualizarlas.\n",
    "#! Selecionamos solo algunas columnas de la tabla \"Covid_Deaths_1\" y las mostramos.\n",
    "#! Calculamos la suma de \"new_cases\" y \"new_deaths\".\n",
    "#! Agrupamos los valores por la columna \"date\".\n",
    "#! Ordenamos los valores por medio de la columna \"date\", \"Total_New_Cases\" DESC.\n",
    "#! By: Jaime Araujo."
   ]
  },
  {
   "cell_type": "code",
   "execution_count": 41,
   "metadata": {},
   "outputs": [
    {
     "name": "stdout",
     "output_type": "stream",
     "text": [
      "   Total_New_Cases  Total_New_Deaths  DeathPercentage\n",
      "0      212356201.0         1632625.0         0.768814\n"
     ]
    }
   ],
   "source": [
    "conexion = conexion_sql_server()\n",
    "\n",
    "pd.set_option('display.expand_frame_repr', False) #! Muestra los resultados de manera horizontal.\n",
    "\n",
    "df = select_to_df('''SELECT\n",
    "                    SUM(ISNULL(new_cases, 0)) AS Total_New_Cases,\n",
    "                    SUM(ISNULL(new_deaths, 0)) AS Total_New_Deaths,\n",
    "                    CASE\n",
    "                        WHEN SUM(ISNULL(new_cases, 0)) = 0 THEN 0  -- Para evitar la división por cero\n",
    "                        ELSE CAST(SUM(ISNULL(new_deaths, 0)) AS DECIMAL(18, 4)) / CAST(SUM(ISNULL(new_cases, 0)) AS DECIMAL(18, 4)) * 100\n",
    "                    END AS DeathPercentage\n",
    "                FROM Covid_Deaths_1\n",
    "                WHERE continent IS NOT NULL\n",
    "                ORDER BY 1, 2;\n",
    "                        ''', conexion)\n",
    "\n",
    "print(df) #! Nos muestra los primeros 10 valores.\n",
    "#!print(df.tail(10)) #! Nos muestra los ultimos 10 valores.\n",
    "\n",
    "#!Test = df[df['date'] == '2023-03-13'] #! Filtramos la columna 'date' por medio de un valor especifico.\n",
    "#!print (Test)\n",
    "\n",
    "#! Nos permite hacer consultas y visualizarlas.\n",
    "#! Selecionamos solo algunas columnas de la tabla \"Covid_Deaths_1\" y las mostramos.\n",
    "#! Calculamos la suma de \"new_cases\" y \"new_deaths\".\n",
    "#! Ordenamos los valores por medio de la columna \"1\", \"2\".\n",
    "#! Calculamos los valores totales, sin agruparlos.\n",
    "#! By: Jaime Araujo."
   ]
  },
  {
   "cell_type": "code",
   "execution_count": 42,
   "metadata": {},
   "outputs": [],
   "source": [
    "conexion = conexion_sql_server()\n",
    "\n",
    "pd.set_option('display.expand_frame_repr', False) #! Muestra los resultados de manera horizontal.\n",
    "\n",
    "df = select_to_df('''SELECT Dea.continent, Dea.location, Dea.date,\n",
    "                  Dea.population, Vac.new_vaccinations\n",
    "                    FROM Covid_Deaths_1 AS Dea\n",
    "                    JOIN Covid_Vaccinations_1 AS Vac\n",
    "                        ON Dea.location = Vac.location\n",
    "                        AND Dea.date = Vac.date\n",
    "                    WHERE Dea.continent is not null\n",
    "                    ORDER BY 2,3;\n",
    "                        ''', conexion)\n",
    "\n",
    "print(df.sample(10)) #! Nos muestra los primeros 10 valores.\n",
    "#!print(df.tail(10)) #! Nos muestra los ultimos 10 valores.\n",
    "\n",
    "#!Test = df[df['date'] == '2023-03-13'] #! Filtramos la columna 'date' por medio de un valor especifico.\n",
    "#!print (Test)\n",
    "\n",
    "#! Nos permite hacer consultas y visualizarlas.\n",
    "#! Selecionamos solo algunas columnas de la tabla \"Covid_Deaths_1\" y las mostramos.\n",
    "#! Calculamos la suma de \"new_cases\" y \"new_deaths\".\n",
    "#! Ordenamos los valores por medio de la columna \"1\", \"2\".\n",
    "#! Calculamos los valores totales, sin agruparlos.\n",
    "#! By: Jaime Araujo."
   ]
  },
  {
   "cell_type": "code",
   "execution_count": null,
   "metadata": {},
   "outputs": [
    {
     "name": "stdout",
     "output_type": "stream",
     "text": [
      "           continent      location       date   population new_vaccinations  RollingPeopleVaccinated            \n",
      "34716           Asia        Bhutan 2023-11-21     782457.0             None                 862033.0  110.170016\n",
      "75578         Europe        Cyprus 2020-11-13     896007.0             None                      NaN         NaN\n",
      "15030  North America         Aruba 2021-07-02     106459.0            568.0                  78202.0   73.457387\n",
      "23571           Asia    Bangladesh 2021-02-08  171186368.0             None                    567.0    0.000331\n",
      "23211           Asia    Bangladesh 2020-02-14  171186368.0             None                      NaN         NaN\n",
      "7840          Africa        Angola 2021-08-30   35588996.0             None                      NaN         NaN\n",
      "94839         Europe       Estonia 2022-04-12    1326064.0            534.0                1976821.0  149.074328\n",
      "7858          Africa        Angola 2021-09-17   35588996.0             None                      NaN         NaN\n",
      "24379           Asia    Bangladesh 2023-04-27  171186368.0             None              139285171.0   81.364639\n",
      "46672         Africa  Burkina Faso 2020-12-17   22673764.0             None                      NaN         NaN\n",
      "65323         Africa         Congo 2020-07-10    5970430.0             None                      NaN         NaN\n",
      "34438           Asia        Bhutan 2023-02-16     782457.0             None                 862033.0  110.170016\n",
      "47954         Africa       Burundi 2020-07-05   12889583.0             None                      NaN         NaN\n",
      "40353         Africa      Botswana 2023-06-23    2630300.0             None                  10435.0    0.396723\n",
      "64120         Africa       Comoros 2021-03-11     836783.0             None                      NaN         NaN\n"
     ]
    }
   ],
   "source": [
    "conexion = conexion_sql_server()\n",
    "\n",
    "df = select_to_df('''WITH PopvsVac (continent, location, date, population, new_vaccinations, RollingPeopleVaccinated)\n",
    "                  AS \n",
    "                  (\n",
    "                  SELECT Dea.continent, Dea.location, Dea.date, Dea.population, Vac.new_vaccinations,\n",
    "                        SUM (CAST(Vac.new_vaccinations AS float )) OVER (Partition By Dea.location Order By Dea.location,\n",
    "                        Dea.date) AS RollingPeopleVaccinated\n",
    "                        FROM Covid_Deaths_1 AS Dea\n",
    "                            JOIN Covid_Vaccinations_1 AS Vac\n",
    "                                ON Dea.location = Vac.location\n",
    "                        AND Dea.date = Vac.date\n",
    "                    WHERE Dea.continent is not null\n",
    "                    )\n",
    "                    SELECT * , (RollingPeopleVaccinated / population) * 100 AS People_Vac_Percentage\n",
    "                    FROM PopvsVac;\n",
    "                        ''', conexion)\n",
    "\n",
    "print(df.sample(15))\n",
    "\n",
    "#! Nos permite hacer consultas y visualizarlas.\n",
    "#! Generamos un alias para la tabla \"EmployeeDemographics\" y \"EmployeeSalary\".\n",
    "#! \"Demo\" hace referencia a la tabla \"EmployeeDemographics\" y \"Sal\" a la tabla \"EmployeeSalary\".\n",
    "#! Hacemos un Join, nos traen los valores que coinciden entre la tabla_1 y tabla_2.\n",
    "#! Nos genera una nueva columna y realiza una partición mediante la columna \"Gender\".\n",
    "#! Nos genera una nueva columna y realiza una partición mediante la columna \"Salary\".\n",
    "#! Tenemos 1 linea \"Female\" por ello en TotalGender en esa linea nos indica \"1\", luego tenemos 3 lineas con \"Male\" por ello que tenemos 3 en \"TotalGender\".\n",
    "#! Tenemos 1 linea \"Female\" por ello en AvgSalary en esa linea nos indica \"47000\", luego tenemos 3 lineas con \"Male\" por ello que tenemos 58666 en \"AvgSalary\".\n",
    "#! Solo consideramos los valores mayores a 45000, referente a la columna \"Salary\"\n",
    "#! By: Jaime Araujo."
   ]
  },
  {
   "cell_type": "code",
   "execution_count": null,
   "metadata": {},
   "outputs": [
    {
     "data": {
      "text/plain": [
       "'\\nTemp Table\\n'"
      ]
     },
     "execution_count": 48,
     "metadata": {},
     "output_type": "execute_result"
    }
   ],
   "source": [
    "'''\n",
    "Temp Table\n",
    "'''"
   ]
  },
  {
   "cell_type": "code",
   "execution_count": null,
   "metadata": {},
   "outputs": [
    {
     "name": "stdout",
     "output_type": "stream",
     "text": [
      "      Continent     Location       Date   Population  New_Vaccinations  RollingPeopleVaccinated\n",
      "0          Asia  Afghanistan 2020-01-03   41128772.0               NaN                      NaN\n",
      "1          Asia  Afghanistan 2020-01-04   41128772.0               NaN                      NaN\n",
      "2          Asia  Afghanistan 2020-01-05   41128772.0               NaN                      NaN\n",
      "3          Asia  Afghanistan 2020-01-06   41128772.0               NaN                      NaN\n",
      "4          Asia  Afghanistan 2020-01-07   41128772.0               NaN                      NaN\n",
      "...         ...          ...        ...          ...               ...                      ...\n",
      "97088    Africa     Ethiopia 2020-06-30  123379928.0               NaN                      NaN\n",
      "97089    Africa     Ethiopia 2020-07-01  123379928.0               NaN                      NaN\n",
      "97090    Africa     Ethiopia 2020-07-02  123379928.0               NaN                      NaN\n",
      "97091    Africa     Ethiopia 2020-07-03  123379928.0               NaN                      NaN\n",
      "97092    Africa     Ethiopia 2020-07-04  123379928.0               NaN                      NaN\n",
      "\n",
      "[97093 rows x 6 columns]\n"
     ]
    }
   ],
   "source": [
    "def conexion_sql_server():\n",
    "# Nombre del DSN (puedes cambiarlo al DSN que has configurado)\n",
    "    dsn = 'Portfolio_Proyect'\n",
    "\n",
    "# Cadena de conexión SQLAlchemy utilizando DSN\n",
    "    connection_string = f\"mssql+pyodbc:///?odbc_connect={urllib.parse.quote_plus(f'DSN={dsn};Trusted_Connection=yes')}\"\n",
    "    engine = sqlalchemy.create_engine(connection_string, echo=False)\n",
    "\n",
    "    # Devolver la conexión\n",
    "    return engine\n",
    "\n",
    "def select_to_df(sql_query, connection):\n",
    "    try:\n",
    "        # Crear un cursor\n",
    "        cursor = connection.raw_connection().cursor()\n",
    "\n",
    "        # Crear la tabla temporal si no existe\n",
    "        create_table_query = '''\n",
    "            DROP TABLE if exists #PercentPopulationVaccinated\n",
    "            CREATE TABLE #PercentPopulationVaccinated(\n",
    "                Continent varchar(100),\n",
    "                Location varchar (100),\n",
    "                Date datetime,\n",
    "                Population numeric,\n",
    "                New_Vaccinations numeric,\n",
    "                RollingPeopleVaccinated numeric\n",
    "            )\n",
    "        '''\n",
    "\n",
    "        cursor.execute(create_table_query)\n",
    "\n",
    "        # Insertar datos en la tabla temporal\n",
    "        insert_data_query = '''\n",
    "            INSERT INTO #PercentPopulationVaccinated\n",
    "            SELECT Dea.continent, Dea.location, Dea.date, Dea.population, Vac.new_vaccinations,\n",
    "                        SUM (CAST(Vac.new_vaccinations AS float )) OVER (Partition By Dea.location Order By Dea.location,\n",
    "                        Dea.date) AS RollingPeopleVaccinated\n",
    "                        FROM Covid_Deaths_1 AS Dea\n",
    "                            JOIN Covid_Vaccinations_1 AS Vac\n",
    "                                ON Dea.location = Vac.location\n",
    "                        AND Dea.date = Vac.date\n",
    "                    WHERE Dea.continent is not null\n",
    "                    ;\n",
    "        '''\n",
    "\n",
    "        cursor.execute(insert_data_query)\n",
    "\n",
    "# Ejecutar la consulta y cargar los resultados en un DataFrame de Pandas\n",
    "        df = pd.read_sql_query(sql_query, connection)\n",
    "        return df\n",
    "    except Exception as e:\n",
    "        print(e)\n",
    "        return None\n",
    "\n",
    "# Consultar la tabla temporal\n",
    "conexion = conexion_sql_server()\n",
    "\n",
    "df = select_to_df('''SELECT *\n",
    "                  FROM #PercentPopulationVaccinated\n",
    "                  ''', conexion)\n",
    "\n",
    "print(df)"
   ]
  },
  {
   "cell_type": "code",
   "execution_count": null,
   "metadata": {},
   "outputs": [
    {
     "data": {
      "text/plain": [
       "'\\nCreating view to store data for later visualizations\\n'"
      ]
     },
     "execution_count": 52,
     "metadata": {},
     "output_type": "execute_result"
    }
   ],
   "source": [
    "'''\n",
    "Creating view to store data for later visualizations\n",
    "'''"
   ]
  },
  {
   "cell_type": "code",
   "execution_count": 42,
   "metadata": {},
   "outputs": [
    {
     "name": "stdout",
     "output_type": "stream",
     "text": [
      "Creación de vista Exitosa\n"
     ]
    }
   ],
   "source": [
    "# Parámetros de conexión\n",
    "server = 'DESKTOP-CK3D4E3\\\\SQLEXPRESS02'\n",
    "database = 'PORTFOLIO_PROYECT'\n",
    "#username = 'tu_usuario'\n",
    "#password = 'tu_contraseña'\n",
    "\n",
    "# Llevamos a cabo la conexión con el servidor\n",
    "\n",
    "conexion = podbc.connect(driver= '{SQL server}', Database= '{PORTFOLIO_PROYECT}', host = server)\n",
    "\n",
    "print(\"Creación de vista Exitosa\")\n",
    "\n",
    "# Crear un cursor\n",
    "cursor = conexion.cursor()\n",
    "\n",
    "# Crear la tabla\n",
    "create_table_query = '''\n",
    "    CREATE View PercentPopulationVaccinated AS\n",
    "    SELECT Dea.continent, Dea.location, Dea.date, Dea.population, Vac.new_vaccinations,\n",
    "                        SUM (CAST(Vac.new_vaccinations AS float )) OVER (Partition By Dea.location Order By Dea.location,\n",
    "                        Dea.date) AS RollingPeopleVaccinated\n",
    "                        FROM Covid_Deaths_1 AS Dea\n",
    "                            JOIN Covid_Vaccinations_1 AS Vac\n",
    "                                ON Dea.location = Vac.location\n",
    "                        AND Dea.date = Vac.date\n",
    "                    WHERE Dea.continent is not null;\n",
    "'''\n",
    "\n",
    "# EmployeeID INT PRIMARY KEY, \"Nos permite considerar la columna como la llave primaria\"\n",
    "\n",
    "cursor.execute(create_table_query)\n",
    "\n",
    "# Nos aseguramos de cerrar la conexión\n",
    "\n",
    "conexion.commit()\n",
    "conexion.close()\n",
    "\n",
    "# Nos permite crear una vista, en nuestro ejemplo es \"PercentPopulationVaccinated\"."
   ]
  },
  {
   "cell_type": "code",
   "execution_count": 42,
   "metadata": {},
   "outputs": [
    {
     "name": "stdout",
     "output_type": "stream",
     "text": [
      "    Location  TotalDeathCount  Last_time\n",
      "0     Brazil         702116.0 2023-12-19\n",
      "1   Colombia         142727.0 2023-12-19\n",
      "2  Argentina         130682.0 2023-12-31\n",
      "3      China         121880.0 2023-12-19\n",
      "4      Chile          64497.0 2023-12-19\n",
      "5     Canada          53470.0 2023-12-19\n",
      "6    Czechia          43153.0 2024-01-02\n",
      "7   Bulgaria          38539.0 2023-12-21\n",
      "8    Ecuador          36036.0 2023-12-19\n",
      "9    Belgium          34339.0 2023-12-19\n"
     ]
    }
   ],
   "source": [
    "conexion = conexion_sql_server()\n",
    "\n",
    "pd.set_option('display.expand_frame_repr', False) #! Muestra los resultados de manera horizontal.\n",
    "\n",
    "Prueba = select_to_df('''SELECT Location, MAX (CAST(total_deaths AS float)) AS TotalDeathCount,\n",
    "                  MAX (date) AS Last_time\n",
    "                    FROM Covid_Deaths_1\n",
    "                    WHERE continent is not null\n",
    "                    GROUP BY Location\n",
    "                    ORDER BY TotalDeathCount DESC;\n",
    "                        ''', conexion)\n",
    "\n",
    "print(Prueba.head(10)) #! Nos muestra los primeros 10 valores.\n",
    "\n",
    "#print(df.tail(10)) #! Nos muestra los ultimos 10 valores.\n",
    "\n",
    "#! Nos permite hacer consultas y visualizarlas.\n",
    "#! Selecionamos solo algunas columnas de la tabla \"Covid_Deaths_1\" y las mostramos.\n",
    "#! Calculamos el valor maximo de muertes totales.\n",
    "#! Agrupamos los valores por \"Location\"\n",
    "#! Ordenamos los valores por medio de la columna \"TotalDeathCount\" DESC.\n",
    "#! CAST(total_deaths AS int), nos permite cambiar el tipo de dato.\n",
    "#! WHERE continent is not null, elimina los valores vacios de la columna \"continent\"\n",
    "#! MAX (date) AS Last_time, agregamos la ultima fecha con registro de datos.\n",
    "#! By: Jaime Araujo."
   ]
  },
  {
   "cell_type": "code",
   "execution_count": 44,
   "metadata": {},
   "outputs": [],
   "source": [
    "Prueba.to_excel(r'C:\\Users\\JAIME\\Desktop\\Jaime_Data_Analyst\\Bootcamps\\SQL\\Curso_Alex_The_Analyst\\Import_Data_SQL\\Prueba.xlsx')\n",
    "\n",
    "#! Nos permite exportar nuestro dataframe \"Prueba\" a la ruta lineas arriba, esto en formato xlsx."
   ]
  },
  {
   "cell_type": "code",
   "execution_count": null,
   "metadata": {},
   "outputs": [],
   "source": []
  },
  {
   "cell_type": "code",
   "execution_count": null,
   "metadata": {},
   "outputs": [],
   "source": []
  }
 ],
 "metadata": {
  "kernelspec": {
   "display_name": "Python 3",
   "language": "python",
   "name": "python3"
  },
  "language_info": {
   "codemirror_mode": {
    "name": "ipython",
    "version": 3
   },
   "file_extension": ".py",
   "mimetype": "text/x-python",
   "name": "python",
   "nbconvert_exporter": "python",
   "pygments_lexer": "ipython3",
   "version": "3.12.0"
  }
 },
 "nbformat": 4,
 "nbformat_minor": 2
}
